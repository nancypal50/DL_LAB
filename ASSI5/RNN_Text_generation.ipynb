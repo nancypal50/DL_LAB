{
 "cells": [
  {
   "cell_type": "markdown",
   "metadata": {},
   "source": [
    "### 20MAI0050 - Nancy Pal\n",
    "https://github.com/nancypal50/DL_LAB/tree/main/ASSI5"
   ]
  },
  {
   "cell_type": "markdown",
   "metadata": {
    "id": "I4mAHzlKMcAx"
   },
   "source": [
    "## Implementing RNN using keras for Text Generation."
   ]
  },
  {
   "cell_type": "code",
   "execution_count": 35,
   "metadata": {
    "id": "uURVuWqRK92n"
   },
   "outputs": [],
   "source": [
    "import numpy as np\n",
    "from keras.models import Sequential\n",
    "from keras.layers import Dense\n",
    "from keras.layers import Dropout\n",
    "from keras.layers import LSTM\n",
    "from keras.utils import np_utils"
   ]
  },
  {
   "cell_type": "code",
   "execution_count": 36,
   "metadata": {
    "id": "PDYJGOBKLQPW"
   },
   "outputs": [],
   "source": [
    "data = open(\"input_file.txt\").read().lower()\n"
   ]
  },
  {
   "cell_type": "code",
   "execution_count": 37,
   "metadata": {
    "colab": {
     "base_uri": "https://localhost:8080/",
     "height": 0
    },
    "id": "Jvej6W2PLxUl",
    "outputId": "18f59b96-b458-4382-e25f-f9e8c7d29661"
   },
   "outputs": [
    {
     "data": {
      "text/plain": [
       "['\\n',\n",
       " ' ',\n",
       " \"'\",\n",
       " ',',\n",
       " '-',\n",
       " '.',\n",
       " ';',\n",
       " 'a',\n",
       " 'b',\n",
       " 'c',\n",
       " 'd',\n",
       " 'e',\n",
       " 'f',\n",
       " 'g',\n",
       " 'h',\n",
       " 'i',\n",
       " 'k',\n",
       " 'l',\n",
       " 'm',\n",
       " 'n',\n",
       " 'o',\n",
       " 'p',\n",
       " 'q',\n",
       " 'r',\n",
       " 's',\n",
       " 't',\n",
       " 'u',\n",
       " 'v',\n",
       " 'w',\n",
       " 'y']"
      ]
     },
     "execution_count": 37,
     "metadata": {
      "tags": []
     },
     "output_type": "execute_result"
    }
   ],
   "source": [
    "chars = sorted(list(set(data)))\n",
    "chars"
   ]
  },
  {
   "cell_type": "code",
   "execution_count": 38,
   "metadata": {
    "colab": {
     "base_uri": "https://localhost:8080/",
     "height": 0
    },
    "id": "mFamjcDsL895",
    "outputId": "7fd0f746-9597-493d-962b-5d5c0bf73d2f"
   },
   "outputs": [
    {
     "data": {
      "text/plain": [
       "1860"
      ]
     },
     "execution_count": 38,
     "metadata": {
      "tags": []
     },
     "output_type": "execute_result"
    }
   ],
   "source": [
    "totalChars = len(data)\n",
    "totalChars"
   ]
  },
  {
   "cell_type": "code",
   "execution_count": 39,
   "metadata": {
    "colab": {
     "base_uri": "https://localhost:8080/",
     "height": 0
    },
    "id": "pm9zsqknMAls",
    "outputId": "1a127dc1-9dad-4491-ad6c-03ee1f1b83a1"
   },
   "outputs": [
    {
     "data": {
      "text/plain": [
       "30"
      ]
     },
     "execution_count": 39,
     "metadata": {
      "tags": []
     },
     "output_type": "execute_result"
    }
   ],
   "source": [
    "numberOfUniqueChars = len(chars)\n",
    "numberOfUniqueChars"
   ]
  },
  {
   "cell_type": "code",
   "execution_count": 40,
   "metadata": {
    "colab": {
     "base_uri": "https://localhost:8080/",
     "height": 0
    },
    "id": "AePqvrbMMDFn",
    "outputId": "b92d62f7-8e35-4da1-b28c-33a94965a7be"
   },
   "outputs": [
    {
     "data": {
      "text/plain": [
       "{'\\n': 0,\n",
       " ' ': 1,\n",
       " \"'\": 2,\n",
       " ',': 3,\n",
       " '-': 4,\n",
       " '.': 5,\n",
       " ';': 6,\n",
       " 'a': 7,\n",
       " 'b': 8,\n",
       " 'c': 9,\n",
       " 'd': 10,\n",
       " 'e': 11,\n",
       " 'f': 12,\n",
       " 'g': 13,\n",
       " 'h': 14,\n",
       " 'i': 15,\n",
       " 'k': 16,\n",
       " 'l': 17,\n",
       " 'm': 18,\n",
       " 'n': 19,\n",
       " 'o': 20,\n",
       " 'p': 21,\n",
       " 'q': 22,\n",
       " 'r': 23,\n",
       " 's': 24,\n",
       " 't': 25,\n",
       " 'u': 26,\n",
       " 'v': 27,\n",
       " 'w': 28,\n",
       " 'y': 29}"
      ]
     },
     "execution_count": 40,
     "metadata": {
      "tags": []
     },
     "output_type": "execute_result"
    }
   ],
   "source": [
    "CharsForids = {char:Id for Id, char in enumerate(chars)}\n",
    "CharsForids"
   ]
  },
  {
   "cell_type": "code",
   "execution_count": 41,
   "metadata": {
    "colab": {
     "base_uri": "https://localhost:8080/",
     "height": 0
    },
    "id": "LXKAcdRd9i9f",
    "outputId": "f62d3b89-8916-43a6-ac20-6c8145d30fc1"
   },
   "outputs": [
    {
     "data": {
      "text/plain": [
       "{0: '\\n',\n",
       " 1: ' ',\n",
       " 2: \"'\",\n",
       " 3: ',',\n",
       " 4: '-',\n",
       " 5: '.',\n",
       " 6: ';',\n",
       " 7: 'a',\n",
       " 8: 'b',\n",
       " 9: 'c',\n",
       " 10: 'd',\n",
       " 11: 'e',\n",
       " 12: 'f',\n",
       " 13: 'g',\n",
       " 14: 'h',\n",
       " 15: 'i',\n",
       " 16: 'k',\n",
       " 17: 'l',\n",
       " 18: 'm',\n",
       " 19: 'n',\n",
       " 20: 'o',\n",
       " 21: 'p',\n",
       " 22: 'q',\n",
       " 23: 'r',\n",
       " 24: 's',\n",
       " 25: 't',\n",
       " 26: 'u',\n",
       " 27: 'v',\n",
       " 28: 'w',\n",
       " 29: 'y'}"
      ]
     },
     "execution_count": 41,
     "metadata": {
      "tags": []
     },
     "output_type": "execute_result"
    }
   ],
   "source": [
    "idsForChars = {Id:char for Id, char in enumerate(chars)}\n",
    "idsForChars"
   ]
  },
  {
   "cell_type": "code",
   "execution_count": 42,
   "metadata": {
    "id": "gn7Kplz-C11e"
   },
   "outputs": [],
   "source": [
    "numberOfCharsToLearn = 100"
   ]
  },
  {
   "cell_type": "code",
   "execution_count": 43,
   "metadata": {
    "colab": {
     "base_uri": "https://localhost:8080/",
     "height": 0
    },
    "id": "RfD2D_wnC36r",
    "outputId": "8d94d456-7f8f-46e8-bebf-90ba143c211b"
   },
   "outputs": [
    {
     "data": {
      "text/plain": [
       "20"
      ]
     },
     "execution_count": 43,
     "metadata": {
      "tags": []
     },
     "output_type": "execute_result"
    }
   ],
   "source": [
    "CharsForids[\"o\"]"
   ]
  },
  {
   "cell_type": "code",
   "execution_count": 44,
   "metadata": {
    "id": "gEb1Z1bGDR2Z"
   },
   "outputs": [],
   "source": [
    "charX = []\n",
    "y = []"
   ]
  },
  {
   "cell_type": "code",
   "execution_count": 45,
   "metadata": {
    "id": "c7YxkHGAD6PA"
   },
   "outputs": [],
   "source": [
    "\n",
    "counter = totalChars - numberOfCharsToLearn\n",
    "for i in range(0, counter, 1):\n",
    "  \n",
    "  theInputChars = data[i:i+numberOfCharsToLearn]\n",
    "  \n",
    "  theOutputChars = data[i + numberOfCharsToLearn]\n",
    "  \n",
    "  charX.append([CharsForids[char] for char in theInputChars])\n",
    " \n",
    "  y.append(CharsForids[theOutputChars])"
   ]
  },
  {
   "cell_type": "markdown",
   "metadata": {
    "id": "zjMjI_ytEwnb"
   },
   "source": [
    "#To convert data into right format which can be fed to RNN\n"
   ]
  },
  {
   "cell_type": "code",
   "execution_count": 46,
   "metadata": {
    "id": "ZQbRNzgGEZCx"
   },
   "outputs": [],
   "source": [
    "X = np.reshape(charX, (len(charX), numberOfCharsToLearn, 1))\n"
   ]
  },
  {
   "cell_type": "code",
   "execution_count": 47,
   "metadata": {
    "colab": {
     "base_uri": "https://localhost:8080/",
     "height": 0
    },
    "id": "DvGNBOmeE8LT",
    "outputId": "e794c586-8272-41fc-c398-29e95e00e458"
   },
   "outputs": [
    {
     "name": "stdout",
     "output_type": "stream",
     "text": [
      "[[0. 0. 0. ... 0. 0. 0.]\n",
      " [0. 0. 0. ... 0. 0. 0.]\n",
      " [0. 1. 0. ... 0. 0. 0.]\n",
      " ...\n",
      " [0. 0. 0. ... 0. 0. 0.]\n",
      " [0. 0. 0. ... 0. 0. 0.]\n",
      " [0. 0. 0. ... 0. 0. 0.]]\n"
     ]
    }
   ],
   "source": [
    "X = X/float(numberOfUniqueChars)\n",
    "y = np_utils.to_categorical(y)\n",
    "print(y)"
   ]
  },
  {
   "cell_type": "markdown",
   "metadata": {
    "id": "XbqH2dH4FOYz"
   },
   "source": [
    "#Building RNN Model"
   ]
  },
  {
   "cell_type": "code",
   "execution_count": 48,
   "metadata": {
    "id": "VK4JiL2lE8kR"
   },
   "outputs": [],
   "source": [
    " model = Sequential()\n"
   ]
  },
  {
   "cell_type": "code",
   "execution_count": 49,
   "metadata": {
    "id": "aTlDvU6YFiMw"
   },
   "outputs": [],
   "source": [
    "model.add(LSTM(256, input_shape=(X.shape[1], X.shape[2])))\n",
    "model.add(Dropout(0.2))\n"
   ]
  },
  {
   "cell_type": "code",
   "execution_count": 50,
   "metadata": {
    "colab": {
     "base_uri": "https://localhost:8080/",
     "height": 0
    },
    "id": "l4jzfh4RGQKQ",
    "outputId": "7d3b00d5-b069-42e5-e8e6-2e25ca2d1df9"
   },
   "outputs": [
    {
     "name": "stdout",
     "output_type": "stream",
     "text": [
      "Epoch 1/50\n",
      "14/14 [==============================] - 2s 22ms/step - loss: 3.2764\n",
      "Epoch 2/50\n",
      "14/14 [==============================] - 0s 21ms/step - loss: 3.0094\n",
      "Epoch 3/50\n",
      "14/14 [==============================] - 0s 20ms/step - loss: 2.9824\n",
      "Epoch 4/50\n",
      "14/14 [==============================] - 0s 21ms/step - loss: 2.9896\n",
      "Epoch 5/50\n",
      "14/14 [==============================] - 0s 20ms/step - loss: 3.0184\n",
      "Epoch 6/50\n",
      "14/14 [==============================] - 0s 20ms/step - loss: 3.0109\n",
      "Epoch 7/50\n",
      "14/14 [==============================] - 0s 20ms/step - loss: 3.0050\n",
      "Epoch 8/50\n",
      "14/14 [==============================] - 0s 20ms/step - loss: 2.9855\n",
      "Epoch 9/50\n",
      "14/14 [==============================] - 0s 20ms/step - loss: 2.9962\n",
      "Epoch 10/50\n",
      "14/14 [==============================] - 0s 20ms/step - loss: 2.9975\n",
      "Epoch 11/50\n",
      "14/14 [==============================] - 0s 20ms/step - loss: 2.9603\n",
      "Epoch 12/50\n",
      "14/14 [==============================] - 0s 21ms/step - loss: 2.9644\n",
      "Epoch 13/50\n",
      "14/14 [==============================] - 0s 20ms/step - loss: 2.9625\n",
      "Epoch 14/50\n",
      "14/14 [==============================] - 0s 21ms/step - loss: 2.9934\n",
      "Epoch 15/50\n",
      "14/14 [==============================] - 0s 20ms/step - loss: 2.9896\n",
      "Epoch 16/50\n",
      "14/14 [==============================] - 0s 21ms/step - loss: 2.9915\n",
      "Epoch 17/50\n",
      "14/14 [==============================] - 0s 20ms/step - loss: 2.9853\n",
      "Epoch 18/50\n",
      "14/14 [==============================] - 0s 20ms/step - loss: 2.9786\n",
      "Epoch 19/50\n",
      "14/14 [==============================] - 0s 20ms/step - loss: 2.9855\n",
      "Epoch 20/50\n",
      "14/14 [==============================] - 0s 21ms/step - loss: 2.9725\n",
      "Epoch 21/50\n",
      "14/14 [==============================] - 0s 20ms/step - loss: 2.9859\n",
      "Epoch 22/50\n",
      "14/14 [==============================] - 0s 20ms/step - loss: 2.9728\n",
      "Epoch 23/50\n",
      "14/14 [==============================] - 0s 21ms/step - loss: 2.9724\n",
      "Epoch 24/50\n",
      "14/14 [==============================] - 0s 20ms/step - loss: 2.9849\n",
      "Epoch 25/50\n",
      "14/14 [==============================] - 0s 20ms/step - loss: 2.9853\n",
      "Epoch 26/50\n",
      "14/14 [==============================] - 0s 20ms/step - loss: 2.9957\n",
      "Epoch 27/50\n",
      "14/14 [==============================] - 0s 20ms/step - loss: 2.9782\n",
      "Epoch 28/50\n",
      "14/14 [==============================] - 0s 20ms/step - loss: 2.9466\n",
      "Epoch 29/50\n",
      "14/14 [==============================] - 0s 20ms/step - loss: 2.9873\n",
      "Epoch 30/50\n",
      "14/14 [==============================] - 0s 20ms/step - loss: 2.9842\n",
      "Epoch 31/50\n",
      "14/14 [==============================] - 0s 20ms/step - loss: 2.9633\n",
      "Epoch 32/50\n",
      "14/14 [==============================] - 0s 21ms/step - loss: 2.9332\n",
      "Epoch 33/50\n",
      "14/14 [==============================] - 0s 20ms/step - loss: 2.9575\n",
      "Epoch 34/50\n",
      "14/14 [==============================] - 0s 21ms/step - loss: 2.9160\n",
      "Epoch 35/50\n",
      "14/14 [==============================] - 0s 20ms/step - loss: 2.9807\n",
      "Epoch 36/50\n",
      "14/14 [==============================] - 0s 20ms/step - loss: 2.9312\n",
      "Epoch 37/50\n",
      "14/14 [==============================] - 0s 20ms/step - loss: 2.9230\n",
      "Epoch 38/50\n",
      "14/14 [==============================] - 0s 21ms/step - loss: 2.9103\n",
      "Epoch 39/50\n",
      "14/14 [==============================] - 0s 20ms/step - loss: 2.9131\n",
      "Epoch 40/50\n",
      "14/14 [==============================] - 0s 20ms/step - loss: 2.8855\n",
      "Epoch 41/50\n",
      "14/14 [==============================] - 0s 20ms/step - loss: 2.8953\n",
      "Epoch 42/50\n",
      "14/14 [==============================] - 0s 20ms/step - loss: 2.8759\n",
      "Epoch 43/50\n",
      "14/14 [==============================] - 0s 20ms/step - loss: 2.8767\n",
      "Epoch 44/50\n",
      "14/14 [==============================] - 0s 20ms/step - loss: 2.8906\n",
      "Epoch 45/50\n",
      "14/14 [==============================] - 0s 20ms/step - loss: 2.8888\n",
      "Epoch 46/50\n",
      "14/14 [==============================] - 0s 20ms/step - loss: 2.8833\n",
      "Epoch 47/50\n",
      "14/14 [==============================] - 0s 20ms/step - loss: 2.8987\n",
      "Epoch 48/50\n",
      "14/14 [==============================] - 0s 20ms/step - loss: 2.8876\n",
      "Epoch 49/50\n",
      "14/14 [==============================] - 0s 21ms/step - loss: 2.8751\n",
      "Epoch 50/50\n",
      "14/14 [==============================] - 0s 20ms/step - loss: 2.8264\n"
     ]
    }
   ],
   "source": [
    "model.add(Dense(y.shape[1], activation='softmax'))\n",
    "model.compile(loss='categorical_crossentropy', optimizer='adam')\n",
    "model.fit(X, y, epochs=50, batch_size=128)\n",
    "model.save_weights(\"Othello.hdf5\")\n"
   ]
  },
  {
   "cell_type": "markdown",
   "metadata": {
    "id": "P-xSSYi3Gt6-"
   },
   "source": [
    "#Code to generate new text"
   ]
  },
  {
   "cell_type": "code",
   "execution_count": 57,
   "metadata": {
    "id": "_2uQkGkZGRHc"
   },
   "outputs": [],
   "source": [
    "for i in range(500):\n",
    "  randomVal = np.random.randint(0, len(charX)-1)\n",
    "  randomStart = charX[randomVal]\n",
    "\n",
    "  x = np.reshape(randomStart, (1, len(randomStart), 1))\n",
    "  x = x/float(numberOfUniqueChars)\n",
    "  pred = model.predict(x)\n",
    "  index = np.argmax(pred)\n",
    "  randomStart.append(index)\n",
    "  randomStart = randomStart[1: len(randomStart)]"
   ]
  },
  {
   "cell_type": "markdown",
   "metadata": {
    "id": "jbfDt4fRMMMw"
   },
   "source": [
    "#So our newly generated text is:\n",
    "\n",
    "\n"
   ]
  },
  {
   "cell_type": "code",
   "execution_count": 58,
   "metadata": {
    "colab": {
     "base_uri": "https://localhost:8080/",
     "height": 0
    },
    "id": "mIYkpAmWHz8Z",
    "outputId": "bae751e5-c17f-42f6-c7cf-2a8770d6451b"
   },
   "outputs": [
    {
     "name": "stdout",
     "output_type": "stream",
     "text": [
      "hence;\n",
      "which ever she could with haste dispatch,\n",
      "she'd come again, and with a greedy ear\n",
      "devour up th\n"
     ]
    }
   ],
   "source": [
    "print(\"\".join([idsForChars[value] for value in randomStart]))"
   ]
  },
  {
   "cell_type": "code",
   "execution_count": 52,
   "metadata": {
    "id": "afSiPje8IH4_"
   },
   "outputs": [],
   "source": []
  },
  {
   "cell_type": "code",
   "execution_count": null,
   "metadata": {
    "id": "aOQWr8z8IFqn"
   },
   "outputs": [],
   "source": []
  }
 ],
 "metadata": {
  "accelerator": "GPU",
  "colab": {
   "name": "RNN.ipynb",
   "provenance": []
  },
  "kernelspec": {
   "display_name": "Python 3",
   "language": "python",
   "name": "python3"
  },
  "language_info": {
   "codemirror_mode": {
    "name": "ipython",
    "version": 3
   },
   "file_extension": ".py",
   "mimetype": "text/x-python",
   "name": "python",
   "nbconvert_exporter": "python",
   "pygments_lexer": "ipython3",
   "version": "3.8.3"
  }
 },
 "nbformat": 4,
 "nbformat_minor": 1
}
