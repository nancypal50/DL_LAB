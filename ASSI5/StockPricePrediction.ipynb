{
 "cells": [
  {
   "cell_type": "markdown",
   "metadata": {
    "id": "fgMsyoDbfZ0L"
   },
   "source": [
    "***20MAI0050- Nancy Pal***\n",
    "\n",
    "https://github.com/nancypal50/DL_LAB/tree/main/ASSI5"
   ]
  },
  {
   "cell_type": "markdown",
   "metadata": {
    "id": "zBjiAE3YvPAo"
   },
   "source": [
    "***STOCK PREDICTION OF MICROSOFT***"
   ]
  },
  {
   "cell_type": "code",
   "execution_count": null,
   "metadata": {
    "id": "VtVdp8-ekX9Z"
   },
   "outputs": [],
   "source": [
    "import pandas as pd\n",
    "import numpy as np\n",
    "%matplotlib inline\n",
    "import matplotlib.pyplot as plt\n",
    "import matplotlib\n",
    "from sklearn.preprocessing import MinMaxScaler\n",
    "from keras.layers import LSTM,Dense,Dropout\n",
    "from sklearn.model_selection import TimeSeriesSplit\n",
    "from sklearn.metrics import mean_squared_error, r2_score\n",
    "import matplotlib.dates as mdates\n",
    "from sklearn import linear_model"
   ]
  },
  {
   "cell_type": "markdown",
   "metadata": {
    "id": "zW6DPL8Mdx4B"
   },
   "source": [
    "\n",
    "**Reading data using parse date**\n",
    "\n",
    "As it is timeseries data so we have to read the data by parsing date means making data column as index."
   ]
  },
  {
   "cell_type": "code",
   "execution_count": null,
   "metadata": {
    "id": "e5BltOTtkjPc"
   },
   "outputs": [],
   "source": [
    "df_final = pd.read_csv(\"/content/MSFT (2).csv\",na_values=['null'],index_col='Date',parse_dates=True,infer_datetime_format=True)"
   ]
  },
  {
   "cell_type": "code",
   "execution_count": null,
   "metadata": {
    "colab": {
     "base_uri": "https://localhost:8080/",
     "height": 235
    },
    "id": "ClSIgE5Mk1NI",
    "outputId": "941f7481-fc8e-4ac6-c3de-043af543e59e"
   },
   "outputs": [
    {
     "data": {
      "text/html": [
       "<div>\n",
       "<style scoped>\n",
       "    .dataframe tbody tr th:only-of-type {\n",
       "        vertical-align: middle;\n",
       "    }\n",
       "\n",
       "    .dataframe tbody tr th {\n",
       "        vertical-align: top;\n",
       "    }\n",
       "\n",
       "    .dataframe thead th {\n",
       "        text-align: right;\n",
       "    }\n",
       "</style>\n",
       "<table border=\"1\" class=\"dataframe\">\n",
       "  <thead>\n",
       "    <tr style=\"text-align: right;\">\n",
       "      <th></th>\n",
       "      <th>Open</th>\n",
       "      <th>High</th>\n",
       "      <th>Low</th>\n",
       "      <th>Close</th>\n",
       "      <th>Adj Close</th>\n",
       "      <th>Volume</th>\n",
       "    </tr>\n",
       "    <tr>\n",
       "      <th>Date</th>\n",
       "      <th></th>\n",
       "      <th></th>\n",
       "      <th></th>\n",
       "      <th></th>\n",
       "      <th></th>\n",
       "      <th></th>\n",
       "    </tr>\n",
       "  </thead>\n",
       "  <tbody>\n",
       "    <tr>\n",
       "      <th>1986-03-13</th>\n",
       "      <td>0.088542</td>\n",
       "      <td>0.101563</td>\n",
       "      <td>0.088542</td>\n",
       "      <td>0.097222</td>\n",
       "      <td>0.061751</td>\n",
       "      <td>1031788800</td>\n",
       "    </tr>\n",
       "    <tr>\n",
       "      <th>1986-03-14</th>\n",
       "      <td>0.097222</td>\n",
       "      <td>0.102431</td>\n",
       "      <td>0.097222</td>\n",
       "      <td>0.100694</td>\n",
       "      <td>0.063956</td>\n",
       "      <td>308160000</td>\n",
       "    </tr>\n",
       "    <tr>\n",
       "      <th>1986-03-17</th>\n",
       "      <td>0.100694</td>\n",
       "      <td>0.103299</td>\n",
       "      <td>0.100694</td>\n",
       "      <td>0.102431</td>\n",
       "      <td>0.065059</td>\n",
       "      <td>133171200</td>\n",
       "    </tr>\n",
       "    <tr>\n",
       "      <th>1986-03-18</th>\n",
       "      <td>0.102431</td>\n",
       "      <td>0.103299</td>\n",
       "      <td>0.098958</td>\n",
       "      <td>0.099826</td>\n",
       "      <td>0.063405</td>\n",
       "      <td>67766400</td>\n",
       "    </tr>\n",
       "    <tr>\n",
       "      <th>1986-03-19</th>\n",
       "      <td>0.099826</td>\n",
       "      <td>0.100694</td>\n",
       "      <td>0.097222</td>\n",
       "      <td>0.098090</td>\n",
       "      <td>0.062302</td>\n",
       "      <td>47894400</td>\n",
       "    </tr>\n",
       "  </tbody>\n",
       "</table>\n",
       "</div>"
      ],
      "text/plain": [
       "                Open      High       Low     Close  Adj Close      Volume\n",
       "Date                                                                     \n",
       "1986-03-13  0.088542  0.101563  0.088542  0.097222   0.061751  1031788800\n",
       "1986-03-14  0.097222  0.102431  0.097222  0.100694   0.063956   308160000\n",
       "1986-03-17  0.100694  0.103299  0.100694  0.102431   0.065059   133171200\n",
       "1986-03-18  0.102431  0.103299  0.098958  0.099826   0.063405    67766400\n",
       "1986-03-19  0.099826  0.100694  0.097222  0.098090   0.062302    47894400"
      ]
     },
     "execution_count": 11,
     "metadata": {
      "tags": []
     },
     "output_type": "execute_result"
    }
   ],
   "source": [
    "df_final.head()"
   ]
  },
  {
   "cell_type": "code",
   "execution_count": null,
   "metadata": {
    "colab": {
     "base_uri": "https://localhost:8080/"
    },
    "id": "twHXdHHhk5Fk",
    "outputId": "7eb62fb8-a6d4-4a45-d762-6fc1af33aa0a"
   },
   "outputs": [
    {
     "data": {
      "text/plain": [
       "(8859, 6)"
      ]
     },
     "execution_count": 12,
     "metadata": {
      "tags": []
     },
     "output_type": "execute_result"
    }
   ],
   "source": [
    "df_final.shape"
   ]
  },
  {
   "cell_type": "code",
   "execution_count": null,
   "metadata": {
    "colab": {
     "base_uri": "https://localhost:8080/",
     "height": 297
    },
    "id": "QOtTs_2yk_m1",
    "outputId": "887bbdb6-9fd6-4f23-84fb-feb6aeef01cb"
   },
   "outputs": [
    {
     "data": {
      "text/html": [
       "<div>\n",
       "<style scoped>\n",
       "    .dataframe tbody tr th:only-of-type {\n",
       "        vertical-align: middle;\n",
       "    }\n",
       "\n",
       "    .dataframe tbody tr th {\n",
       "        vertical-align: top;\n",
       "    }\n",
       "\n",
       "    .dataframe thead th {\n",
       "        text-align: right;\n",
       "    }\n",
       "</style>\n",
       "<table border=\"1\" class=\"dataframe\">\n",
       "  <thead>\n",
       "    <tr style=\"text-align: right;\">\n",
       "      <th></th>\n",
       "      <th>Open</th>\n",
       "      <th>High</th>\n",
       "      <th>Low</th>\n",
       "      <th>Close</th>\n",
       "      <th>Adj Close</th>\n",
       "      <th>Volume</th>\n",
       "    </tr>\n",
       "  </thead>\n",
       "  <tbody>\n",
       "    <tr>\n",
       "      <th>count</th>\n",
       "      <td>8859.000000</td>\n",
       "      <td>8859.000000</td>\n",
       "      <td>8859.000000</td>\n",
       "      <td>8859.000000</td>\n",
       "      <td>8859.000000</td>\n",
       "      <td>8.859000e+03</td>\n",
       "    </tr>\n",
       "    <tr>\n",
       "      <th>mean</th>\n",
       "      <td>34.879813</td>\n",
       "      <td>35.257926</td>\n",
       "      <td>34.497369</td>\n",
       "      <td>34.888821</td>\n",
       "      <td>29.935581</td>\n",
       "      <td>5.952684e+07</td>\n",
       "    </tr>\n",
       "    <tr>\n",
       "      <th>std</th>\n",
       "      <td>44.173660</td>\n",
       "      <td>44.625643</td>\n",
       "      <td>43.708272</td>\n",
       "      <td>44.191263</td>\n",
       "      <td>44.310490</td>\n",
       "      <td>3.857998e+07</td>\n",
       "    </tr>\n",
       "    <tr>\n",
       "      <th>min</th>\n",
       "      <td>0.088542</td>\n",
       "      <td>0.092014</td>\n",
       "      <td>0.088542</td>\n",
       "      <td>0.090278</td>\n",
       "      <td>0.057340</td>\n",
       "      <td>2.304000e+06</td>\n",
       "    </tr>\n",
       "    <tr>\n",
       "      <th>25%</th>\n",
       "      <td>3.843750</td>\n",
       "      <td>3.876953</td>\n",
       "      <td>3.812500</td>\n",
       "      <td>3.851563</td>\n",
       "      <td>2.446323</td>\n",
       "      <td>3.558610e+07</td>\n",
       "    </tr>\n",
       "    <tr>\n",
       "      <th>50%</th>\n",
       "      <td>26.590000</td>\n",
       "      <td>26.879999</td>\n",
       "      <td>26.290001</td>\n",
       "      <td>26.590000</td>\n",
       "      <td>18.698833</td>\n",
       "      <td>5.269540e+07</td>\n",
       "    </tr>\n",
       "    <tr>\n",
       "      <th>75%</th>\n",
       "      <td>36.774999</td>\n",
       "      <td>37.015625</td>\n",
       "      <td>36.168751</td>\n",
       "      <td>36.704375</td>\n",
       "      <td>27.229476</td>\n",
       "      <td>7.339240e+07</td>\n",
       "    </tr>\n",
       "    <tr>\n",
       "      <th>max</th>\n",
       "      <td>261.660004</td>\n",
       "      <td>263.190002</td>\n",
       "      <td>260.170013</td>\n",
       "      <td>261.970001</td>\n",
       "      <td>261.970001</td>\n",
       "      <td>1.031789e+09</td>\n",
       "    </tr>\n",
       "  </tbody>\n",
       "</table>\n",
       "</div>"
      ],
      "text/plain": [
       "              Open         High  ...    Adj Close        Volume\n",
       "count  8859.000000  8859.000000  ...  8859.000000  8.859000e+03\n",
       "mean     34.879813    35.257926  ...    29.935581  5.952684e+07\n",
       "std      44.173660    44.625643  ...    44.310490  3.857998e+07\n",
       "min       0.088542     0.092014  ...     0.057340  2.304000e+06\n",
       "25%       3.843750     3.876953  ...     2.446323  3.558610e+07\n",
       "50%      26.590000    26.879999  ...    18.698833  5.269540e+07\n",
       "75%      36.774999    37.015625  ...    27.229476  7.339240e+07\n",
       "max     261.660004   263.190002  ...   261.970001  1.031789e+09\n",
       "\n",
       "[8 rows x 6 columns]"
      ]
     },
     "execution_count": 14,
     "metadata": {
      "tags": []
     },
     "output_type": "execute_result"
    }
   ],
   "source": [
    "df_final.describe()"
   ]
  },
  {
   "cell_type": "code",
   "execution_count": null,
   "metadata": {
    "colab": {
     "base_uri": "https://localhost:8080/"
    },
    "id": "ac-dCi8wlCp3",
    "outputId": "18d82af0-547d-440d-f180-c382eb426093"
   },
   "outputs": [
    {
     "data": {
      "text/plain": [
       "False"
      ]
     },
     "execution_count": 15,
     "metadata": {
      "tags": []
     },
     "output_type": "execute_result"
    }
   ],
   "source": [
    "df_final.isnull().values.any()"
   ]
  },
  {
   "cell_type": "code",
   "execution_count": null,
   "metadata": {
    "colab": {
     "base_uri": "https://localhost:8080/",
     "height": 286
    },
    "id": "qUo57tfSlw7D",
    "outputId": "9bed3f4a-df60-44df-e93a-99cfea12605e"
   },
   "outputs": [
    {
     "data": {
      "text/plain": [
       "<matplotlib.axes._subplots.AxesSubplot at 0x7f23acc77350>"
      ]
     },
     "execution_count": 16,
     "metadata": {
      "tags": []
     },
     "output_type": "execute_result"
    },
    {
     "data": {
      "image/png": "[encoded data removed]",
      "text/plain": [
       "<Figure size 432x288 with 1 Axes>"
      ]
     },
     "metadata": {
      "needs_background": "light",
      "tags": []
     },
     "output_type": "display_data"
    }
   ],
   "source": [
    "df_final['Adj Close'].plot()"
   ]
  },
  {
   "cell_type": "markdown",
   "metadata": {
    "id": "W4nOV-r1eEtJ"
   },
   "source": [
    "***Co-relation Analysis***"
   ]
  },
  {
   "cell_type": "code",
   "execution_count": null,
   "metadata": {
    "id": "_hfjufi5lzz1"
   },
   "outputs": [],
   "source": [
    "X=df_final.drop(['Adj Close'],axis=1)\n",
    "X=X.drop(['Close'],axis=1)"
   ]
  },
  {
   "cell_type": "code",
   "execution_count": null,
   "metadata": {
    "colab": {
     "base_uri": "https://localhost:8080/",
     "height": 689
    },
    "id": "vtUkDs6Yl59L",
    "outputId": "60079291-53ef-40fc-ea57-8a78425c6571"
   },
   "outputs": [
    {
     "data": {
      "text/plain": [
       "<matplotlib.axes._subplots.AxesSubplot at 0x7f23a9348190>"
      ]
     },
     "execution_count": 18,
     "metadata": {
      "tags": []
     },
     "output_type": "execute_result"
    },
    {
     "data": {
      "image/png": "[encoded data removed]",
      "text/plain": [
       "<Figure size 1440x720 with 1 Axes>"
      ]
     },
     "metadata": {
      "needs_background": "light",
      "tags": []
     },
     "output_type": "display_data"
    }
   ],
   "source": [
    "X.corrwith(df_final['Adj Close']).plot.bar(\n",
    "        figsize = (20, 10), title = \"Correlation with Adj Close\", fontsize = 20,\n",
    "        rot = 90, grid = True)"
   ]
  },
  {
   "cell_type": "code",
   "execution_count": null,
   "metadata": {
    "colab": {
     "base_uri": "https://localhost:8080/",
     "height": 235
    },
    "id": "Wevfzty-l9QK",
    "outputId": "d89d1ea2-4999-4e7b-ce34-3184a55f544c"
   },
   "outputs": [
    {
     "data": {
      "text/html": [
       "<div>\n",
       "<style scoped>\n",
       "    .dataframe tbody tr th:only-of-type {\n",
       "        vertical-align: middle;\n",
       "    }\n",
       "\n",
       "    .dataframe tbody tr th {\n",
       "        vertical-align: top;\n",
       "    }\n",
       "\n",
       "    .dataframe thead th {\n",
       "        text-align: right;\n",
       "    }\n",
       "</style>\n",
       "<table border=\"1\" class=\"dataframe\">\n",
       "  <thead>\n",
       "    <tr style=\"text-align: right;\">\n",
       "      <th></th>\n",
       "      <th>Open</th>\n",
       "      <th>High</th>\n",
       "      <th>Low</th>\n",
       "      <th>Close</th>\n",
       "      <th>Adj Close</th>\n",
       "      <th>Volume</th>\n",
       "    </tr>\n",
       "    <tr>\n",
       "      <th>Date</th>\n",
       "      <th></th>\n",
       "      <th></th>\n",
       "      <th></th>\n",
       "      <th></th>\n",
       "      <th></th>\n",
       "      <th></th>\n",
       "    </tr>\n",
       "  </thead>\n",
       "  <tbody>\n",
       "    <tr>\n",
       "      <th>1986-03-13</th>\n",
       "      <td>0.088542</td>\n",
       "      <td>0.101563</td>\n",
       "      <td>0.088542</td>\n",
       "      <td>0.097222</td>\n",
       "      <td>0.061751</td>\n",
       "      <td>1031788800</td>\n",
       "    </tr>\n",
       "    <tr>\n",
       "      <th>1986-03-14</th>\n",
       "      <td>0.097222</td>\n",
       "      <td>0.102431</td>\n",
       "      <td>0.097222</td>\n",
       "      <td>0.100694</td>\n",
       "      <td>0.063956</td>\n",
       "      <td>308160000</td>\n",
       "    </tr>\n",
       "    <tr>\n",
       "      <th>1986-03-17</th>\n",
       "      <td>0.100694</td>\n",
       "      <td>0.103299</td>\n",
       "      <td>0.100694</td>\n",
       "      <td>0.102431</td>\n",
       "      <td>0.065059</td>\n",
       "      <td>133171200</td>\n",
       "    </tr>\n",
       "    <tr>\n",
       "      <th>1986-03-18</th>\n",
       "      <td>0.102431</td>\n",
       "      <td>0.103299</td>\n",
       "      <td>0.098958</td>\n",
       "      <td>0.099826</td>\n",
       "      <td>0.063405</td>\n",
       "      <td>67766400</td>\n",
       "    </tr>\n",
       "    <tr>\n",
       "      <th>1986-03-19</th>\n",
       "      <td>0.099826</td>\n",
       "      <td>0.100694</td>\n",
       "      <td>0.097222</td>\n",
       "      <td>0.098090</td>\n",
       "      <td>0.062302</td>\n",
       "      <td>47894400</td>\n",
       "    </tr>\n",
       "  </tbody>\n",
       "</table>\n",
       "</div>"
      ],
      "text/plain": [
       "                Open      High       Low     Close  Adj Close      Volume\n",
       "Date                                                                     \n",
       "1986-03-13  0.088542  0.101563  0.088542  0.097222   0.061751  1031788800\n",
       "1986-03-14  0.097222  0.102431  0.097222  0.100694   0.063956   308160000\n",
       "1986-03-17  0.100694  0.103299  0.100694  0.102431   0.065059   133171200\n",
       "1986-03-18  0.102431  0.103299  0.098958  0.099826   0.063405    67766400\n",
       "1986-03-19  0.099826  0.100694  0.097222  0.098090   0.062302    47894400"
      ]
     },
     "metadata": {
      "tags": []
     },
     "output_type": "display_data"
    }
   ],
   "source": [
    "\n",
    "test = df_final\n",
    "# Target column\n",
    "target_adj_close = pd.DataFrame(test['Adj Close'])\n",
    "display(test.head())"
   ]
  },
  {
   "cell_type": "code",
   "execution_count": null,
   "metadata": {
    "id": "Cq4ve1ccmJU_"
   },
   "outputs": [],
   "source": [
    "# selecting Feature Columns\n",
    "feature_columns = ['Open', 'High', 'Low', 'Volume']"
   ]
  },
  {
   "cell_type": "markdown",
   "metadata": {
    "id": "9oFE3oByeSvm"
   },
   "source": [
    "***Normalizing the data***"
   ]
  },
  {
   "cell_type": "code",
   "execution_count": null,
   "metadata": {
    "colab": {
     "base_uri": "https://localhost:8080/",
     "height": 235
    },
    "id": "O5urWylnmOeS",
    "outputId": "4c55cd35-1356-4cc3-d07d-4ba6f825b83f"
   },
   "outputs": [
    {
     "data": {
      "text/html": [
       "<div>\n",
       "<style scoped>\n",
       "    .dataframe tbody tr th:only-of-type {\n",
       "        vertical-align: middle;\n",
       "    }\n",
       "\n",
       "    .dataframe tbody tr th {\n",
       "        vertical-align: top;\n",
       "    }\n",
       "\n",
       "    .dataframe thead th {\n",
       "        text-align: right;\n",
       "    }\n",
       "</style>\n",
       "<table border=\"1\" class=\"dataframe\">\n",
       "  <thead>\n",
       "    <tr style=\"text-align: right;\">\n",
       "      <th></th>\n",
       "      <th>Open</th>\n",
       "      <th>High</th>\n",
       "      <th>Low</th>\n",
       "      <th>Volume</th>\n",
       "    </tr>\n",
       "    <tr>\n",
       "      <th>Date</th>\n",
       "      <th></th>\n",
       "      <th></th>\n",
       "      <th></th>\n",
       "      <th></th>\n",
       "    </tr>\n",
       "  </thead>\n",
       "  <tbody>\n",
       "    <tr>\n",
       "      <th>1986-03-13</th>\n",
       "      <td>0.000000</td>\n",
       "      <td>0.000036</td>\n",
       "      <td>0.000000</td>\n",
       "      <td>1.000000</td>\n",
       "    </tr>\n",
       "    <tr>\n",
       "      <th>1986-03-14</th>\n",
       "      <td>0.000033</td>\n",
       "      <td>0.000040</td>\n",
       "      <td>0.000033</td>\n",
       "      <td>0.297096</td>\n",
       "    </tr>\n",
       "    <tr>\n",
       "      <th>1986-03-17</th>\n",
       "      <td>0.000046</td>\n",
       "      <td>0.000043</td>\n",
       "      <td>0.000047</td>\n",
       "      <td>0.127119</td>\n",
       "    </tr>\n",
       "    <tr>\n",
       "      <th>1986-03-18</th>\n",
       "      <td>0.000053</td>\n",
       "      <td>0.000043</td>\n",
       "      <td>0.000040</td>\n",
       "      <td>0.063588</td>\n",
       "    </tr>\n",
       "    <tr>\n",
       "      <th>1986-03-19</th>\n",
       "      <td>0.000043</td>\n",
       "      <td>0.000033</td>\n",
       "      <td>0.000033</td>\n",
       "      <td>0.044285</td>\n",
       "    </tr>\n",
       "  </tbody>\n",
       "</table>\n",
       "</div>"
      ],
      "text/plain": [
       "                Open      High       Low    Volume\n",
       "Date                                              \n",
       "1986-03-13  0.000000  0.000036  0.000000  1.000000\n",
       "1986-03-14  0.000033  0.000040  0.000033  0.297096\n",
       "1986-03-17  0.000046  0.000043  0.000047  0.127119\n",
       "1986-03-18  0.000053  0.000043  0.000040  0.063588\n",
       "1986-03-19  0.000043  0.000033  0.000033  0.044285"
      ]
     },
     "execution_count": 21,
     "metadata": {
      "tags": []
     },
     "output_type": "execute_result"
    }
   ],
   "source": [
    "from sklearn.preprocessing import MinMaxScaler\n",
    "scaler = MinMaxScaler()\n",
    "feature_minmax_transform_data = scaler.fit_transform(test[feature_columns])\n",
    "feature_minmax_transform = pd.DataFrame(columns=feature_columns, data=feature_minmax_transform_data, index=test.index)\n",
    "feature_minmax_transform.head()"
   ]
  },
  {
   "cell_type": "code",
   "execution_count": null,
   "metadata": {
    "colab": {
     "base_uri": "https://localhost:8080/",
     "height": 1000
    },
    "id": "_y8OBu2xmRNK",
    "outputId": "d57fd15d-085d-48b3-abfa-1e9817c838aa"
   },
   "outputs": [
    {
     "data": {
      "text/html": [
       "<div>\n",
       "<style scoped>\n",
       "    .dataframe tbody tr th:only-of-type {\n",
       "        vertical-align: middle;\n",
       "    }\n",
       "\n",
       "    .dataframe tbody tr th {\n",
       "        vertical-align: top;\n",
       "    }\n",
       "\n",
       "    .dataframe thead th {\n",
       "        text-align: right;\n",
       "    }\n",
       "</style>\n",
       "<table border=\"1\" class=\"dataframe\">\n",
       "  <thead>\n",
       "    <tr style=\"text-align: right;\">\n",
       "      <th></th>\n",
       "      <th>Open</th>\n",
       "      <th>High</th>\n",
       "      <th>Low</th>\n",
       "      <th>Volume</th>\n",
       "    </tr>\n",
       "    <tr>\n",
       "      <th>Date</th>\n",
       "      <th></th>\n",
       "      <th></th>\n",
       "      <th></th>\n",
       "      <th></th>\n",
       "    </tr>\n",
       "  </thead>\n",
       "  <tbody>\n",
       "    <tr>\n",
       "      <th>1986-03-13</th>\n",
       "      <td>0.000000</td>\n",
       "      <td>0.000036</td>\n",
       "      <td>0.000000</td>\n",
       "      <td>1.000000</td>\n",
       "    </tr>\n",
       "    <tr>\n",
       "      <th>1986-03-14</th>\n",
       "      <td>0.000033</td>\n",
       "      <td>0.000040</td>\n",
       "      <td>0.000033</td>\n",
       "      <td>0.297096</td>\n",
       "    </tr>\n",
       "    <tr>\n",
       "      <th>1986-03-17</th>\n",
       "      <td>0.000046</td>\n",
       "      <td>0.000043</td>\n",
       "      <td>0.000047</td>\n",
       "      <td>0.127119</td>\n",
       "    </tr>\n",
       "    <tr>\n",
       "      <th>1986-03-18</th>\n",
       "      <td>0.000053</td>\n",
       "      <td>0.000043</td>\n",
       "      <td>0.000040</td>\n",
       "      <td>0.063588</td>\n",
       "    </tr>\n",
       "    <tr>\n",
       "      <th>1986-03-19</th>\n",
       "      <td>0.000043</td>\n",
       "      <td>0.000033</td>\n",
       "      <td>0.000033</td>\n",
       "      <td>0.044285</td>\n",
       "    </tr>\n",
       "  </tbody>\n",
       "</table>\n",
       "</div>"
      ],
      "text/plain": [
       "                Open      High       Low    Volume\n",
       "Date                                              \n",
       "1986-03-13  0.000000  0.000036  0.000000  1.000000\n",
       "1986-03-14  0.000033  0.000040  0.000033  0.297096\n",
       "1986-03-17  0.000046  0.000043  0.000047  0.127119\n",
       "1986-03-18  0.000053  0.000043  0.000040  0.063588\n",
       "1986-03-19  0.000043  0.000033  0.000033  0.044285"
      ]
     },
     "metadata": {
      "tags": []
     },
     "output_type": "display_data"
    },
    {
     "name": "stdout",
     "output_type": "stream",
     "text": [
      "Shape of features :  (8859, 4)\n",
      "Shape of target :  (8859, 1)\n"
     ]
    },
    {
     "data": {
      "text/html": [
       "<div>\n",
       "<style scoped>\n",
       "    .dataframe tbody tr th:only-of-type {\n",
       "        vertical-align: middle;\n",
       "    }\n",
       "\n",
       "    .dataframe tbody tr th {\n",
       "        vertical-align: top;\n",
       "    }\n",
       "\n",
       "    .dataframe thead th {\n",
       "        text-align: right;\n",
       "    }\n",
       "</style>\n",
       "<table border=\"1\" class=\"dataframe\">\n",
       "  <thead>\n",
       "    <tr style=\"text-align: right;\">\n",
       "      <th></th>\n",
       "      <th>Open</th>\n",
       "      <th>High</th>\n",
       "      <th>Low</th>\n",
       "      <th>Volume</th>\n",
       "    </tr>\n",
       "    <tr>\n",
       "      <th>Date</th>\n",
       "      <th></th>\n",
       "      <th></th>\n",
       "      <th></th>\n",
       "      <th></th>\n",
       "    </tr>\n",
       "  </thead>\n",
       "  <tbody>\n",
       "    <tr>\n",
       "      <th>2021-04-28</th>\n",
       "      <td>0.978667</td>\n",
       "      <td>0.974724</td>\n",
       "      <td>0.972239</td>\n",
       "      <td>0.043322</td>\n",
       "    </tr>\n",
       "    <tr>\n",
       "      <th>2021-04-29</th>\n",
       "      <td>0.976297</td>\n",
       "      <td>0.973052</td>\n",
       "      <td>0.957052</td>\n",
       "      <td>0.037189</td>\n",
       "    </tr>\n",
       "    <tr>\n",
       "      <th>2021-04-30</th>\n",
       "      <td>0.954429</td>\n",
       "      <td>0.961573</td>\n",
       "      <td>0.959359</td>\n",
       "      <td>0.027805</td>\n",
       "    </tr>\n",
       "    <tr>\n",
       "      <th>2021-05-03</th>\n",
       "      <td>0.968422</td>\n",
       "      <td>0.966400</td>\n",
       "      <td>0.965203</td>\n",
       "      <td>0.016826</td>\n",
       "    </tr>\n",
       "    <tr>\n",
       "      <th>2021-05-04</th>\n",
       "      <td>0.959132</td>\n",
       "      <td>0.954466</td>\n",
       "      <td>0.944594</td>\n",
       "      <td>0.029580</td>\n",
       "    </tr>\n",
       "  </tbody>\n",
       "</table>\n",
       "</div>"
      ],
      "text/plain": [
       "                Open      High       Low    Volume\n",
       "Date                                              \n",
       "2021-04-28  0.978667  0.974724  0.972239  0.043322\n",
       "2021-04-29  0.976297  0.973052  0.957052  0.037189\n",
       "2021-04-30  0.954429  0.961573  0.959359  0.027805\n",
       "2021-05-03  0.968422  0.966400  0.965203  0.016826\n",
       "2021-05-04  0.959132  0.954466  0.944594  0.029580"
      ]
     },
     "metadata": {
      "tags": []
     },
     "output_type": "display_data"
    },
    {
     "data": {
      "text/html": [
       "<div>\n",
       "<style scoped>\n",
       "    .dataframe tbody tr th:only-of-type {\n",
       "        vertical-align: middle;\n",
       "    }\n",
       "\n",
       "    .dataframe tbody tr th {\n",
       "        vertical-align: top;\n",
       "    }\n",
       "\n",
       "    .dataframe thead th {\n",
       "        text-align: right;\n",
       "    }\n",
       "</style>\n",
       "<table border=\"1\" class=\"dataframe\">\n",
       "  <thead>\n",
       "    <tr style=\"text-align: right;\">\n",
       "      <th></th>\n",
       "      <th>Adj Close</th>\n",
       "    </tr>\n",
       "    <tr>\n",
       "      <th>Date</th>\n",
       "      <th></th>\n",
       "    </tr>\n",
       "  </thead>\n",
       "  <tbody>\n",
       "    <tr>\n",
       "      <th>2021-04-28</th>\n",
       "      <td>252.509995</td>\n",
       "    </tr>\n",
       "    <tr>\n",
       "      <th>2021-04-29</th>\n",
       "      <td>252.179993</td>\n",
       "    </tr>\n",
       "    <tr>\n",
       "      <th>2021-04-30</th>\n",
       "      <td>251.860001</td>\n",
       "    </tr>\n",
       "    <tr>\n",
       "      <th>2021-05-03</th>\n",
       "      <td>247.789993</td>\n",
       "    </tr>\n",
       "    <tr>\n",
       "      <th>2021-05-04</th>\n",
       "      <td>246.470001</td>\n",
       "    </tr>\n",
       "  </tbody>\n",
       "</table>\n",
       "</div>"
      ],
      "text/plain": [
       "             Adj Close\n",
       "Date                  \n",
       "2021-04-28  252.509995\n",
       "2021-04-29  252.179993\n",
       "2021-04-30  251.860001\n",
       "2021-05-03  247.789993\n",
       "2021-05-04  246.470001"
      ]
     },
     "metadata": {
      "tags": []
     },
     "output_type": "display_data"
    },
    {
     "name": "stdout",
     "output_type": "stream",
     "text": [
      "\n",
      " -----After process------ \n",
      "\n",
      "Shape of features :  (8769, 4)\n",
      "Shape of target :  (8769, 1)\n"
     ]
    },
    {
     "data": {
      "text/html": [
       "<div>\n",
       "<style scoped>\n",
       "    .dataframe tbody tr th:only-of-type {\n",
       "        vertical-align: middle;\n",
       "    }\n",
       "\n",
       "    .dataframe tbody tr th {\n",
       "        vertical-align: top;\n",
       "    }\n",
       "\n",
       "    .dataframe thead th {\n",
       "        text-align: right;\n",
       "    }\n",
       "</style>\n",
       "<table border=\"1\" class=\"dataframe\">\n",
       "  <thead>\n",
       "    <tr style=\"text-align: right;\">\n",
       "      <th></th>\n",
       "      <th>Adj Close</th>\n",
       "    </tr>\n",
       "    <tr>\n",
       "      <th>Date</th>\n",
       "      <th></th>\n",
       "    </tr>\n",
       "  </thead>\n",
       "  <tbody>\n",
       "    <tr>\n",
       "      <th>2020-12-17</th>\n",
       "      <td>218.087708</td>\n",
       "    </tr>\n",
       "    <tr>\n",
       "      <th>2020-12-18</th>\n",
       "      <td>222.078506</td>\n",
       "    </tr>\n",
       "    <tr>\n",
       "      <th>2020-12-21</th>\n",
       "      <td>223.425415</td>\n",
       "    </tr>\n",
       "    <tr>\n",
       "      <th>2020-12-22</th>\n",
       "      <td>220.512131</td>\n",
       "    </tr>\n",
       "    <tr>\n",
       "      <th>2020-12-23</th>\n",
       "      <td>222.238144</td>\n",
       "    </tr>\n",
       "  </tbody>\n",
       "</table>\n",
       "</div>"
      ],
      "text/plain": [
       "             Adj Close\n",
       "Date                  \n",
       "2020-12-17  218.087708\n",
       "2020-12-18  222.078506\n",
       "2020-12-21  223.425415\n",
       "2020-12-22  220.512131\n",
       "2020-12-23  222.238144"
      ]
     },
     "metadata": {
      "tags": []
     },
     "output_type": "display_data"
    }
   ],
   "source": [
    "display(feature_minmax_transform.head())\n",
    "print('Shape of features : ', feature_minmax_transform.shape)\n",
    "print('Shape of target : ', target_adj_close.shape)\n",
    "\n",
    "# Shift target array because we want to predict the n + 1 day value\n",
    "\n",
    "\n",
    "target_adj_close = target_adj_close.shift(-1)\n",
    "validation_y = target_adj_close[-90:-1]\n",
    "target_adj_close = target_adj_close[:-90]\n",
    "\n",
    "# Taking last 90 rows of data to be validation set\n",
    "validation_X = feature_minmax_transform[-90:-1]\n",
    "feature_minmax_transform = feature_minmax_transform[:-90]\n",
    "display(validation_X.tail())\n",
    "display(validation_y.tail())\n",
    "\n",
    "print(\"\\n -----After process------ \\n\")\n",
    "print('Shape of features : ', feature_minmax_transform.shape)\n",
    "print('Shape of target : ', target_adj_close.shape)\n",
    "display(target_adj_close.tail())"
   ]
  },
  {
   "cell_type": "markdown",
   "metadata": {
    "id": "2FZMLfu6edsg"
   },
   "source": [
    "***Train test Split using Time-series split***"
   ]
  },
  {
   "cell_type": "code",
   "execution_count": null,
   "metadata": {
    "id": "yeFN9uy1mXOo"
   },
   "outputs": [],
   "source": [
    "ts_split= TimeSeriesSplit(n_splits=10)\n",
    "for train_index, test_index in ts_split.split(feature_minmax_transform):\n",
    "        X_train, X_test = feature_minmax_transform[:len(train_index)], feature_minmax_transform[len(train_index): (len(train_index)+len(test_index))]\n",
    "        y_train, y_test = target_adj_close[:len(train_index)].values.ravel(), target_adj_close[len(train_index): (len(train_index)+len(test_index))].values.ravel()"
   ]
  },
  {
   "cell_type": "code",
   "execution_count": null,
   "metadata": {
    "colab": {
     "base_uri": "https://localhost:8080/"
    },
    "id": "eFtiG0Icmhqh",
    "outputId": "4a2190c3-688d-4365-9649-db6b1e7d7cee"
   },
   "outputs": [
    {
     "data": {
      "text/plain": [
       "(7972, 4)"
      ]
     },
     "execution_count": 24,
     "metadata": {
      "tags": []
     },
     "output_type": "execute_result"
    }
   ],
   "source": [
    "X_train.shape"
   ]
  },
  {
   "cell_type": "code",
   "execution_count": null,
   "metadata": {
    "colab": {
     "base_uri": "https://localhost:8080/"
    },
    "id": "fon6VXnrmnZS",
    "outputId": "f5bcb8e1-f922-4350-a034-c2ca412d4187"
   },
   "outputs": [
    {
     "data": {
      "text/plain": [
       "(797, 4)"
      ]
     },
     "execution_count": 25,
     "metadata": {
      "tags": []
     },
     "output_type": "execute_result"
    }
   ],
   "source": [
    "X_test.shape"
   ]
  },
  {
   "cell_type": "code",
   "execution_count": null,
   "metadata": {
    "colab": {
     "base_uri": "https://localhost:8080/"
    },
    "id": "SURSfOZqmpW6",
    "outputId": "019398e9-bc65-44c8-e2ad-12141d29d197"
   },
   "outputs": [
    {
     "data": {
      "text/plain": [
       "(7972,)"
      ]
     },
     "execution_count": 27,
     "metadata": {
      "tags": []
     },
     "output_type": "execute_result"
    }
   ],
   "source": [
    "y_train.shape"
   ]
  },
  {
   "cell_type": "code",
   "execution_count": null,
   "metadata": {
    "colab": {
     "base_uri": "https://localhost:8080/"
    },
    "id": "rT9WP_2QmrjV",
    "outputId": "081f3d62-f99c-47ae-ab79-5da501411293"
   },
   "outputs": [
    {
     "data": {
      "text/plain": [
       "(797,)"
      ]
     },
     "execution_count": 28,
     "metadata": {
      "tags": []
     },
     "output_type": "execute_result"
    }
   ],
   "source": [
    "y_test.shape"
   ]
  },
  {
   "cell_type": "code",
   "execution_count": null,
   "metadata": {
    "id": "Qp4QL20zmwBW"
   },
   "outputs": [],
   "source": [
    "def validate_result(model, model_name):\n",
    "    predicted = model.predict(validation_X)\n",
    "    RSME_score = np.sqrt(mean_squared_error(validation_y, predicted))\n",
    "    print('RMSE: ', RSME_score)\n",
    "    \n",
    "    R2_score = r2_score(validation_y, predicted)\n",
    "    print('R2 score: ', R2_score)\n",
    "\n",
    "    plt.plot(validation_y.index, predicted,'r', label='Predict')\n",
    "    plt.plot(validation_y.index, validation_y,'b', label='Actual')\n",
    "    plt.ylabel('Price')\n",
    "    plt.gca().xaxis.set_major_formatter(mdates.DateFormatter('%Y-%m-%d'))\n",
    "    plt.gca().xaxis.set_major_locator(mdates.MonthLocator())\n",
    "    plt.title(model_name + ' Predict vs Actual')\n",
    "    plt.legend(loc='upper right')\n",
    "    plt.show()"
   ]
  },
  {
   "cell_type": "markdown",
   "metadata": {
    "id": "8qoZXjbeepZC"
   },
   "source": [
    "***Benchmark Model***"
   ]
  },
  {
   "cell_type": "code",
   "execution_count": null,
   "metadata": {
    "colab": {
     "base_uri": "https://localhost:8080/",
     "height": 315
    },
    "id": "Ba4cSBrUm0ll",
    "outputId": "88a4219c-fcb4-4dc4-e84e-f398944c7319"
   },
   "outputs": [
    {
     "name": "stdout",
     "output_type": "stream",
     "text": [
      "RMSE:  163.0738270702925\n",
      "R2 score:  -149.0496056217249\n"
     ]
    },
    {
     "data": {
      "image/png": "[encoded data removed]",
      "text/plain": [
       "<Figure size 432x288 with 1 Axes>"
      ]
     },
     "metadata": {
      "needs_background": "light",
      "tags": []
     },
     "output_type": "display_data"
    }
   ],
   "source": [
    "from sklearn.tree import DecisionTreeRegressor\n",
    "\n",
    "dt = DecisionTreeRegressor(random_state=0)\n",
    "\n",
    "benchmark_dt=dt.fit(X_train, y_train)\n",
    "\n",
    "validate_result(benchmark_dt, 'Decision Tree Regression')"
   ]
  },
  {
   "cell_type": "markdown",
   "metadata": {
    "id": "l1ARniilexVc"
   },
   "source": [
    "***Process the data for LSTM***"
   ]
  },
  {
   "cell_type": "code",
   "execution_count": null,
   "metadata": {
    "id": "wqILWQVFm51_"
   },
   "outputs": [],
   "source": [
    "\n",
    "X_train =np.array(X_train)\n",
    "X_test =np.array(X_test)\n",
    "\n",
    "X_tr_t = X_train.reshape(X_train.shape[0], 1, X_train.shape[1])\n",
    "X_tst_t = X_test.reshape(X_test.shape[0], 1, X_test.shape[1])"
   ]
  },
  {
   "cell_type": "markdown",
   "metadata": {
    "id": "vg4P8Lvqe3Xl"
   },
   "source": [
    "**Building LSTM Model**"
   ]
  },
  {
   "cell_type": "code",
   "execution_count": null,
   "metadata": {
    "colab": {
     "base_uri": "https://localhost:8080/"
    },
    "id": "s04NlL7gm-Ib",
    "outputId": "87dad487-5b48-45f5-c588-c5392b6737f1"
   },
   "outputs": [
    {
     "name": "stdout",
     "output_type": "stream",
     "text": [
      "Epoch 1/200\n",
      "997/997 [==============================] - 4s 2ms/step - loss: 58.8105\n",
      "Epoch 2/200\n",
      "997/997 [==============================] - 2s 2ms/step - loss: 103.8252\n",
      "Epoch 3/200\n",
      "997/997 [==============================] - 3s 3ms/step - loss: 151.5167\n",
      "Epoch 4/200\n",
      "997/997 [==============================] - 3s 3ms/step - loss: 133.9644\n",
      "Epoch 5/200\n",
      "997/997 [==============================] - 3s 3ms/step - loss: 104.0976\n",
      "Epoch 6/200\n",
      "997/997 [==============================] - 3s 3ms/step - loss: 72.0277\n",
      "Epoch 7/200\n",
      "997/997 [==============================] - 2s 2ms/step - loss: 42.5233\n",
      "Epoch 8/200\n",
      "997/997 [==============================] - 2s 2ms/step - loss: 21.1521\n",
      "Epoch 9/200\n",
      "997/997 [==============================] - 3s 3ms/step - loss: 9.7913\n",
      "Epoch 10/200\n",
      "997/997 [==============================] - 3s 3ms/step - loss: 5.4708\n",
      "Epoch 11/200\n",
      "997/997 [==============================] - 2s 2ms/step - loss: 4.1853\n",
      "Epoch 12/200\n",
      "997/997 [==============================] - 2s 2ms/step - loss: 3.8052\n",
      "Epoch 13/200\n",
      "997/997 [==============================] - 2s 2ms/step - loss: 3.6372\n",
      "Epoch 14/200\n",
      "997/997 [==============================] - 3s 3ms/step - loss: 3.5099\n",
      "Epoch 15/200\n",
      "997/997 [==============================] - 2s 2ms/step - loss: 3.3991\n",
      "Epoch 16/200\n",
      "997/997 [==============================] - 3s 3ms/step - loss: 3.3034\n",
      "Epoch 17/200\n",
      "997/997 [==============================] - 2s 2ms/step - loss: 3.2234\n",
      "Epoch 18/200\n",
      "997/997 [==============================] - 3s 3ms/step - loss: 3.1586\n",
      "Epoch 19/200\n",
      "997/997 [==============================] - 3s 3ms/step - loss: 3.1042\n",
      "Epoch 20/200\n",
      "997/997 [==============================] - 4s 4ms/step - loss: 3.0591\n",
      "Epoch 21/200\n",
      "997/997 [==============================] - 3s 3ms/step - loss: 3.0204\n",
      "Epoch 22/200\n",
      "997/997 [==============================] - 2s 2ms/step - loss: 2.9868\n",
      "Epoch 23/200\n",
      "997/997 [==============================] - 2s 2ms/step - loss: 2.9570\n",
      "Epoch 24/200\n",
      "997/997 [==============================] - 2s 2ms/step - loss: 2.9303\n",
      "Epoch 25/200\n",
      "997/997 [==============================] - 2s 2ms/step - loss: 2.9058\n",
      "Epoch 26/200\n",
      "997/997 [==============================] - 3s 3ms/step - loss: 2.8832\n",
      "Epoch 27/200\n",
      "997/997 [==============================] - 3s 3ms/step - loss: 2.8621\n",
      "Epoch 28/200\n",
      "997/997 [==============================] - 2s 2ms/step - loss: 2.8432\n",
      "Epoch 29/200\n",
      "997/997 [==============================] - 3s 3ms/step - loss: 2.8246\n",
      "Epoch 30/200\n",
      "997/997 [==============================] - 3s 3ms/step - loss: 2.8067\n",
      "Epoch 31/200\n",
      "997/997 [==============================] - 2s 2ms/step - loss: 2.7895\n",
      "Epoch 32/200\n",
      "997/997 [==============================] - 2s 3ms/step - loss: 2.7729\n",
      "Epoch 33/200\n",
      "997/997 [==============================] - 3s 3ms/step - loss: 2.7569\n",
      "Epoch 34/200\n",
      "997/997 [==============================] - 2s 2ms/step - loss: 2.7414\n",
      "Epoch 35/200\n",
      "997/997 [==============================] - 3s 3ms/step - loss: 2.7264\n",
      "Epoch 36/200\n",
      "997/997 [==============================] - 3s 3ms/step - loss: 2.7119\n",
      "Epoch 37/200\n",
      "997/997 [==============================] - 4s 4ms/step - loss: 2.6977\n",
      "Epoch 38/200\n",
      "997/997 [==============================] - 3s 3ms/step - loss: 2.6839\n",
      "Epoch 39/200\n",
      "997/997 [==============================] - 3s 3ms/step - loss: 2.6705\n",
      "Epoch 40/200\n",
      "997/997 [==============================] - 4s 4ms/step - loss: 2.6575\n",
      "Epoch 41/200\n",
      "997/997 [==============================] - 3s 3ms/step - loss: 2.6447\n",
      "Epoch 42/200\n",
      "997/997 [==============================] - 3s 3ms/step - loss: 2.6323\n",
      "Epoch 43/200\n",
      "997/997 [==============================] - 3s 3ms/step - loss: 2.6202\n",
      "Epoch 44/200\n",
      "997/997 [==============================] - 3s 3ms/step - loss: 2.6083\n",
      "Epoch 45/200\n",
      "997/997 [==============================] - 3s 3ms/step - loss: 2.5968\n",
      "Epoch 46/200\n",
      "997/997 [==============================] - 4s 4ms/step - loss: 2.5854\n",
      "Epoch 47/200\n",
      "997/997 [==============================] - 5s 5ms/step - loss: 2.5743\n",
      "Epoch 48/200\n",
      "997/997 [==============================] - 3s 3ms/step - loss: 2.5635\n",
      "Epoch 49/200\n",
      "997/997 [==============================] - 3s 3ms/step - loss: 2.5529\n",
      "Epoch 50/200\n",
      "997/997 [==============================] - 4s 4ms/step - loss: 2.5424\n",
      "Epoch 51/200\n",
      "997/997 [==============================] - 3s 3ms/step - loss: 2.5322\n",
      "Epoch 52/200\n",
      "997/997 [==============================] - 3s 3ms/step - loss: 2.5222\n",
      "Epoch 53/200\n",
      "997/997 [==============================] - 3s 3ms/step - loss: 2.5124\n",
      "Epoch 54/200\n",
      "997/997 [==============================] - 2s 2ms/step - loss: 2.5027\n",
      "Epoch 55/200\n",
      "997/997 [==============================] - 2s 2ms/step - loss: 2.4933\n",
      "Epoch 56/200\n",
      "997/997 [==============================] - 2s 2ms/step - loss: 2.4840\n",
      "Epoch 57/200\n",
      "997/997 [==============================] - 3s 3ms/step - loss: 2.4749\n",
      "Epoch 58/200\n",
      "997/997 [==============================] - 3s 3ms/step - loss: 2.4659\n",
      "Epoch 59/200\n",
      "997/997 [==============================] - 2s 2ms/step - loss: 2.4571\n",
      "Epoch 60/200\n",
      "997/997 [==============================] - 2s 2ms/step - loss: 2.4485\n",
      "Epoch 61/200\n",
      "997/997 [==============================] - 2s 2ms/step - loss: 2.4400\n",
      "Epoch 62/200\n",
      "997/997 [==============================] - 2s 2ms/step - loss: 2.4316\n",
      "Epoch 63/200\n",
      "997/997 [==============================] - 2s 2ms/step - loss: 2.4234\n",
      "Epoch 64/200\n",
      "997/997 [==============================] - 2s 2ms/step - loss: 2.4153\n",
      "Epoch 65/200\n",
      "997/997 [==============================] - 3s 3ms/step - loss: 2.4073\n",
      "Epoch 66/200\n",
      "997/997 [==============================] - 2s 2ms/step - loss: 2.3995\n",
      "Epoch 67/200\n",
      "997/997 [==============================] - 2s 2ms/step - loss: 2.3918\n",
      "Epoch 68/200\n",
      "997/997 [==============================] - 2s 2ms/step - loss: 2.3843\n",
      "Epoch 69/200\n",
      "997/997 [==============================] - 2s 2ms/step - loss: 2.3768\n",
      "Epoch 70/200\n",
      "997/997 [==============================] - 3s 3ms/step - loss: 2.3695\n",
      "Epoch 71/200\n",
      "997/997 [==============================] - 2s 2ms/step - loss: 2.3623\n",
      "Epoch 72/200\n",
      "997/997 [==============================] - 3s 3ms/step - loss: 2.3552\n",
      "Epoch 73/200\n",
      "997/997 [==============================] - 2s 2ms/step - loss: 2.3482\n",
      "Epoch 74/200\n",
      "997/997 [==============================] - 2s 2ms/step - loss: 2.3413\n",
      "Epoch 75/200\n",
      "997/997 [==============================] - 2s 2ms/step - loss: 2.3345\n",
      "Epoch 76/200\n",
      "997/997 [==============================] - 2s 2ms/step - loss: 2.3279\n",
      "Epoch 77/200\n",
      "997/997 [==============================] - 2s 2ms/step - loss: 2.3213\n",
      "Epoch 78/200\n",
      "997/997 [==============================] - 2s 2ms/step - loss: 2.3149\n",
      "Epoch 79/200\n",
      "997/997 [==============================] - 2s 2ms/step - loss: 2.3085\n",
      "Epoch 80/200\n",
      "997/997 [==============================] - 3s 3ms/step - loss: 2.3022\n",
      "Epoch 81/200\n",
      "997/997 [==============================] - 2s 2ms/step - loss: 2.2961\n",
      "Epoch 82/200\n",
      "997/997 [==============================] - 2s 2ms/step - loss: 2.2900\n",
      "Epoch 83/200\n",
      "997/997 [==============================] - 2s 2ms/step - loss: 2.2841\n",
      "Epoch 84/200\n",
      "997/997 [==============================] - 2s 2ms/step - loss: 2.2782\n",
      "Epoch 85/200\n",
      "997/997 [==============================] - 2s 2ms/step - loss: 2.2724\n",
      "Epoch 86/200\n",
      "997/997 [==============================] - 2s 2ms/step - loss: 2.2667\n",
      "Epoch 87/200\n",
      "997/997 [==============================] - 3s 3ms/step - loss: 2.2611\n",
      "Epoch 88/200\n",
      "997/997 [==============================] - 3s 3ms/step - loss: 2.2556\n",
      "Epoch 89/200\n",
      "997/997 [==============================] - 3s 3ms/step - loss: 2.2501\n",
      "Epoch 90/200\n",
      "997/997 [==============================] - 2s 2ms/step - loss: 2.2448\n",
      "Epoch 91/200\n",
      "997/997 [==============================] - 2s 2ms/step - loss: 2.2395\n",
      "Epoch 92/200\n",
      "997/997 [==============================] - 2s 2ms/step - loss: 2.2344\n",
      "Epoch 93/200\n",
      "997/997 [==============================] - 2s 2ms/step - loss: 2.2293\n",
      "Epoch 94/200\n",
      "997/997 [==============================] - 3s 3ms/step - loss: 2.2243\n",
      "Epoch 95/200\n",
      "997/997 [==============================] - 3s 3ms/step - loss: 2.2193\n",
      "Epoch 96/200\n",
      "997/997 [==============================] - 2s 2ms/step - loss: 2.2145\n",
      "Epoch 97/200\n",
      "997/997 [==============================] - 2s 2ms/step - loss: 2.2097\n",
      "Epoch 98/200\n",
      "997/997 [==============================] - 2s 2ms/step - loss: 2.2050\n",
      "Epoch 99/200\n",
      "997/997 [==============================] - 2s 2ms/step - loss: 2.2003\n",
      "Epoch 100/200\n",
      "997/997 [==============================] - 3s 3ms/step - loss: 2.1958\n",
      "Epoch 101/200\n",
      "997/997 [==============================] - 2s 2ms/step - loss: 2.1913\n",
      "Epoch 102/200\n",
      "997/997 [==============================] - 2s 2ms/step - loss: 2.1869\n",
      "Epoch 103/200\n",
      "997/997 [==============================] - 2s 2ms/step - loss: 2.1825\n",
      "Epoch 104/200\n",
      "997/997 [==============================] - 3s 3ms/step - loss: 2.1782\n",
      "Epoch 105/200\n",
      "997/997 [==============================] - 2s 2ms/step - loss: 2.1740\n",
      "Epoch 106/200\n",
      "997/997 [==============================] - 2s 2ms/step - loss: 2.1699\n",
      "Epoch 107/200\n",
      "997/997 [==============================] - 3s 3ms/step - loss: 2.1658\n",
      "Epoch 108/200\n",
      "997/997 [==============================] - 2s 2ms/step - loss: 2.1618\n",
      "Epoch 109/200\n",
      "997/997 [==============================] - 2s 2ms/step - loss: 2.1578\n",
      "Epoch 110/200\n",
      "997/997 [==============================] - 2s 2ms/step - loss: 2.1539\n",
      "Epoch 111/200\n",
      "997/997 [==============================] - 3s 3ms/step - loss: 2.1501\n",
      "Epoch 112/200\n",
      "997/997 [==============================] - 2s 2ms/step - loss: 2.1463\n",
      "Epoch 113/200\n",
      "997/997 [==============================] - 3s 3ms/step - loss: 2.1426\n",
      "Epoch 114/200\n",
      "997/997 [==============================] - 2s 2ms/step - loss: 2.1390\n",
      "Epoch 115/200\n",
      "997/997 [==============================] - 2s 2ms/step - loss: 2.1354\n",
      "Epoch 116/200\n",
      "997/997 [==============================] - 2s 2ms/step - loss: 2.1318\n",
      "Epoch 117/200\n",
      "997/997 [==============================] - 2s 2ms/step - loss: 2.1283\n",
      "Epoch 118/200\n",
      "997/997 [==============================] - 2s 2ms/step - loss: 2.1249\n",
      "Epoch 119/200\n",
      "997/997 [==============================] - 3s 3ms/step - loss: 2.1215\n",
      "Epoch 120/200\n",
      "997/997 [==============================] - 2s 2ms/step - loss: 2.1181\n",
      "Epoch 121/200\n",
      "997/997 [==============================] - 2s 2ms/step - loss: 2.1148\n",
      "Epoch 122/200\n",
      "997/997 [==============================] - 2s 2ms/step - loss: 2.1116\n",
      "Epoch 123/200\n",
      "997/997 [==============================] - 2s 2ms/step - loss: 2.1084\n",
      "Epoch 124/200\n",
      "997/997 [==============================] - 2s 2ms/step - loss: 2.1052\n",
      "Epoch 125/200\n",
      "997/997 [==============================] - 3s 3ms/step - loss: 2.1021\n",
      "Epoch 126/200\n",
      "997/997 [==============================] - 2s 2ms/step - loss: 2.0990\n",
      "Epoch 127/200\n",
      "997/997 [==============================] - 2s 2ms/step - loss: 2.0960\n",
      "Epoch 128/200\n",
      "997/997 [==============================] - 2s 2ms/step - loss: 2.0930\n",
      "Epoch 129/200\n",
      "997/997 [==============================] - 2s 2ms/step - loss: 2.0900\n",
      "Epoch 130/200\n",
      "997/997 [==============================] - 2s 2ms/step - loss: 2.0871\n",
      "Epoch 131/200\n",
      "997/997 [==============================] - 2s 2ms/step - loss: 2.0842\n",
      "Epoch 132/200\n",
      "997/997 [==============================] - 2s 2ms/step - loss: 2.0814\n",
      "Epoch 133/200\n",
      "997/997 [==============================] - 2s 2ms/step - loss: 2.0786\n",
      "Epoch 134/200\n",
      "997/997 [==============================] - 2s 2ms/step - loss: 2.0758\n",
      "Epoch 135/200\n",
      "997/997 [==============================] - 2s 2ms/step - loss: 2.0731\n",
      "Epoch 136/200\n",
      "997/997 [==============================] - 2s 2ms/step - loss: 2.0704\n",
      "Epoch 137/200\n",
      "997/997 [==============================] - 2s 2ms/step - loss: 2.0677\n",
      "Epoch 138/200\n",
      "997/997 [==============================] - 3s 3ms/step - loss: 2.0651\n",
      "Epoch 139/200\n",
      "997/997 [==============================] - 3s 3ms/step - loss: 2.0625\n",
      "Epoch 140/200\n",
      "997/997 [==============================] - 2s 2ms/step - loss: 2.0599\n",
      "Epoch 141/200\n",
      "997/997 [==============================] - 2s 2ms/step - loss: 2.0574\n",
      "Epoch 142/200\n",
      "997/997 [==============================] - 2s 2ms/step - loss: 2.0549\n",
      "Epoch 143/200\n",
      "997/997 [==============================] - 3s 3ms/step - loss: 2.0524\n",
      "Epoch 144/200\n",
      "997/997 [==============================] - 2s 2ms/step - loss: 2.0500\n",
      "Epoch 145/200\n",
      "997/997 [==============================] - 2s 2ms/step - loss: 2.0476\n",
      "Epoch 146/200\n",
      "997/997 [==============================] - 2s 2ms/step - loss: 2.0453\n",
      "Epoch 147/200\n",
      "997/997 [==============================] - 2s 2ms/step - loss: 2.0429\n",
      "Epoch 148/200\n",
      "997/997 [==============================] - 2s 2ms/step - loss: 2.0407\n",
      "Epoch 149/200\n",
      "997/997 [==============================] - 2s 2ms/step - loss: 2.0384\n",
      "Epoch 150/200\n",
      "997/997 [==============================] - 3s 3ms/step - loss: 2.0362\n",
      "Epoch 151/200\n",
      "997/997 [==============================] - 2s 2ms/step - loss: 2.0340\n",
      "Epoch 152/200\n",
      "997/997 [==============================] - 2s 2ms/step - loss: 2.0319\n",
      "Epoch 153/200\n",
      "997/997 [==============================] - 2s 2ms/step - loss: 2.0298\n",
      "Epoch 154/200\n",
      "997/997 [==============================] - 2s 2ms/step - loss: 2.0278\n",
      "Epoch 155/200\n",
      "997/997 [==============================] - 2s 2ms/step - loss: 2.0258\n",
      "Epoch 156/200\n",
      "997/997 [==============================] - 2s 2ms/step - loss: 2.0239\n",
      "Epoch 157/200\n",
      "997/997 [==============================] - 2s 2ms/step - loss: 2.0220\n",
      "Epoch 158/200\n",
      "997/997 [==============================] - 3s 3ms/step - loss: 2.0202\n",
      "Epoch 159/200\n",
      "997/997 [==============================] - 2s 2ms/step - loss: 2.0185\n",
      "Epoch 160/200\n",
      "997/997 [==============================] - 2s 2ms/step - loss: 2.0168\n",
      "Epoch 161/200\n",
      "997/997 [==============================] - 2s 2ms/step - loss: 2.0152\n",
      "Epoch 162/200\n",
      "997/997 [==============================] - 2s 2ms/step - loss: 2.0136\n",
      "Epoch 163/200\n",
      "997/997 [==============================] - 3s 3ms/step - loss: 2.0121\n",
      "Epoch 164/200\n",
      "997/997 [==============================] - 2s 2ms/step - loss: 2.0107\n",
      "Epoch 165/200\n",
      "997/997 [==============================] - 3s 3ms/step - loss: 2.0094\n",
      "Epoch 166/200\n",
      "997/997 [==============================] - 2s 2ms/step - loss: 2.0082\n",
      "Epoch 167/200\n",
      "997/997 [==============================] - 2s 2ms/step - loss: 2.0071\n",
      "Epoch 168/200\n",
      "997/997 [==============================] - 2s 2ms/step - loss: 2.0061\n",
      "Epoch 169/200\n",
      "997/997 [==============================] - 3s 3ms/step - loss: 2.0051\n",
      "Epoch 170/200\n",
      "997/997 [==============================] - 2s 2ms/step - loss: 2.0043\n",
      "Epoch 171/200\n",
      "997/997 [==============================] - 3s 3ms/step - loss: 2.0037\n",
      "Epoch 172/200\n",
      "997/997 [==============================] - 2s 3ms/step - loss: 2.0031\n",
      "Epoch 173/200\n",
      "997/997 [==============================] - 2s 2ms/step - loss: 2.0027\n",
      "Epoch 174/200\n",
      "997/997 [==============================] - 2s 2ms/step - loss: 2.0024\n",
      "Epoch 175/200\n",
      "997/997 [==============================] - 3s 3ms/step - loss: 2.0023\n",
      "Epoch 176/200\n",
      "997/997 [==============================] - 2s 2ms/step - loss: 2.0024\n",
      "Epoch 177/200\n",
      "997/997 [==============================] - 2s 2ms/step - loss: 2.0026\n",
      "Epoch 178/200\n",
      "997/997 [==============================] - 2s 2ms/step - loss: 2.0030\n",
      "Epoch 179/200\n",
      "997/997 [==============================] - 2s 3ms/step - loss: 2.0036\n",
      "Epoch 180/200\n",
      "997/997 [==============================] - 2s 2ms/step - loss: 2.0044\n",
      "Epoch 181/200\n",
      "997/997 [==============================] - 2s 2ms/step - loss: 2.0054\n",
      "Epoch 00181: early stopping\n"
     ]
    }
   ],
   "source": [
    "from keras.models import Sequential\n",
    "from keras.layers import Dense\n",
    "import keras.backend as K\n",
    "from keras.callbacks import EarlyStopping\n",
    "from keras.optimizers import Adam\n",
    "from keras.models import load_model\n",
    "from keras.layers import LSTM\n",
    "K.clear_session()\n",
    "model_lstm = Sequential()\n",
    "model_lstm.add(LSTM(16, input_shape=(1, X_train.shape[1]), activation='relu', return_sequences=False))\n",
    "model_lstm.add(Dense(1))\n",
    "model_lstm.compile(loss='mean_squared_error', optimizer='adam')\n",
    "early_stop = EarlyStopping(monitor='loss', patience=5, verbose=1)\n",
    "history_model_lstm = model_lstm.fit(X_tr_t, y_train, epochs=200, batch_size=8, verbose=1, shuffle=False, callbacks=[early_stop])"
   ]
  },
  {
   "cell_type": "markdown",
   "metadata": {
    "id": "-63oM8I0fAym"
   },
   "source": [
    "**Evaluating the model**"
   ]
  },
  {
   "cell_type": "code",
   "execution_count": null,
   "metadata": {
    "colab": {
     "base_uri": "https://localhost:8080/"
    },
    "id": "P399_GoynB4c",
    "outputId": "fce71dd8-f398-41ad-f148-af69f06af124"
   },
   "outputs": [
    {
     "name": "stdout",
     "output_type": "stream",
     "text": [
      "The R2 score on the Train set is:\t0.904\n",
      "The R2 score on the Test set is:\t0.747\n"
     ]
    }
   ],
   "source": [
    "\n",
    "y_pred_test_lstm = model_lstm.predict(X_tst_t)\n",
    "y_train_pred_lstm = model_lstm.predict(X_tr_t)\n",
    "print(\"The R2 score on the Train set is:\\t{:0.3f}\".format(r2_score(y_train, y_train_pred_lstm)))\n",
    "r2_train = r2_score(y_train, y_train_pred_lstm)\n",
    "\n",
    "print(\"The R2 score on the Test set is:\\t{:0.3f}\".format(r2_score(y_test, y_pred_test_lstm)))\n",
    "r2_test = r2_score(y_test, y_pred_test_lstm)"
   ]
  },
  {
   "cell_type": "markdown",
   "metadata": {
    "id": "Ab9aTghrfGke"
   },
   "source": [
    "**Prediction of LSTM**"
   ]
  },
  {
   "cell_type": "code",
   "execution_count": null,
   "metadata": {
    "colab": {
     "base_uri": "https://localhost:8080/"
    },
    "id": "W-A8fAq8pP7L",
    "outputId": "2910d3cf-7bd6-45bd-cd37-f96f6b2d46c7"
   },
   "outputs": [
    {
     "name": "stdout",
     "output_type": "stream",
     "text": [
      "797/797 [==============================] - 1s 1ms/step - loss: 474.2175\n"
     ]
    }
   ],
   "source": [
    "score_lstm= model_lstm.evaluate(X_tst_t, y_test, batch_size=1)"
   ]
  },
  {
   "cell_type": "code",
   "execution_count": null,
   "metadata": {
    "colab": {
     "base_uri": "https://localhost:8080/"
    },
    "id": "rb-fyxy0pTsf",
    "outputId": "828ee716-8dbc-48d6-b53b-d6987fd139f6"
   },
   "outputs": [
    {
     "name": "stdout",
     "output_type": "stream",
     "text": [
      "LSTM: 474.217468\n"
     ]
    }
   ],
   "source": [
    "print('LSTM: %f'%score_lstm)"
   ]
  },
  {
   "cell_type": "code",
   "execution_count": null,
   "metadata": {
    "id": "d_PorTS5pYPl"
   },
   "outputs": [],
   "source": [
    "\n",
    "y_pred_test_LSTM = model_lstm.predict(X_tst_t)"
   ]
  },
  {
   "cell_type": "markdown",
   "metadata": {
    "id": "mfEnyut2fNVI"
   },
   "source": [
    "**LSTM Prediction Visualization**"
   ]
  },
  {
   "cell_type": "code",
   "execution_count": null,
   "metadata": {
    "colab": {
     "base_uri": "https://localhost:8080/",
     "height": 295
    },
    "id": "i37kQFn9pdKw",
    "outputId": "b3348c53-16de-494b-8779-9716c0ae01dc"
   },
   "outputs": [
    {
     "data": {
      "image/png": "[encoded data removed]",
      "text/plain": [
       "<Figure size 432x288 with 1 Axes>"
      ]
     },
     "metadata": {
      "needs_background": "light",
      "tags": []
     },
     "output_type": "display_data"
    }
   ],
   "source": [
    "plt.plot(y_test, label='True')\n",
    "plt.plot(y_pred_test_LSTM, label='LSTM')\n",
    "plt.title(\"LSTM's_Prediction\")\n",
    "plt.xlabel('Observation')\n",
    "plt.ylabel('INR_Scaled')\n",
    "plt.legend()\n",
    "plt.show()"
   ]
  },
  {
   "cell_type": "code",
   "execution_count": null,
   "metadata": {
    "id": "AVHkq8wDqS5M"
   },
   "outputs": [],
   "source": []
  }
 ],
 "metadata": {
  "colab": {
   "collapsed_sections": [],
   "name": "StockPricePrediction.ipynb",
   "provenance": []
  },
  "kernelspec": {
   "display_name": "Python 3",
   "language": "python",
   "name": "python3"
  },
  "language_info": {
   "codemirror_mode": {
    "name": "ipython",
    "version": 3
   },
   "file_extension": ".py",
   "mimetype": "text/x-python",
   "name": "python",
   "nbconvert_exporter": "python",
   "pygments_lexer": "ipython3",
   "version": "3.9.1"
  }
 },
 "nbformat": 4,
 "nbformat_minor": 1
}
