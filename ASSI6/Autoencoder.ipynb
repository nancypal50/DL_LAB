{
  "nbformat": 4,
  "nbformat_minor": 0,
  "metadata": {
    "colab": {
      "name": "Autoencoder.ipynb",
      "provenance": [],
      "collapsed_sections": []
    },
    "kernelspec": {
      "name": "python3",
      "display_name": "Python 3"
    },
    "language_info": {
      "name": "python"
    }
  },
  "cells": [
    {
      "cell_type": "markdown",
      "metadata": {
        "id": "D-OZwAUVOXbR"
      },
      "source": [
        "20MAI0050- Nancy Pal\n",
        "\n",
        "### ***AUTOENCODER IN KERAS***"
      ]
    },
    {
      "cell_type": "markdown",
      "metadata": {
        "id": "7EwRnkwEt34e"
      },
      "source": [
        "**The simplest possible autoencoder,a single fully-connected neural layer as encoder and as decoder**"
      ]
    },
    {
      "cell_type": "code",
      "metadata": {
        "id": "rz5bnmRzTc18"
      },
      "source": [
        "import keras\n",
        "from keras import layers\n",
        "\n",
        "# This is the size of our encoded representations\n",
        "encoding_dim = 32  # 32 floats -> compression of factor 24.5, assuming the input is 784 floats\n",
        "\n",
        "# This is our input image\n",
        "input_img = keras.Input(shape=(784,))\n",
        "# \"encoded\" is the encoded representation of the input\n",
        "encoded = layers.Dense(encoding_dim, activation='relu')(input_img)\n",
        "# \"decoded\" is the lossy reconstruction of the input\n",
        "decoded = layers.Dense(784, activation='sigmoid')(encoded)\n",
        "\n",
        "# This model maps an input to its reconstruction\n",
        "autoencoder = keras.Model(input_img, decoded)"
      ],
      "execution_count": null,
      "outputs": []
    },
    {
      "cell_type": "code",
      "metadata": {
        "id": "eUjCdSu6VJaK"
      },
      "source": [
        "# This model maps an input to its encoded representation\n",
        "encoder = keras.Model(input_img, encoded)"
      ],
      "execution_count": null,
      "outputs": []
    },
    {
      "cell_type": "code",
      "metadata": {
        "id": "XCW0kR0SVQyu"
      },
      "source": [
        "# This is our encoded (32-dimensional) input\n",
        "encoded_input = keras.Input(shape=(encoding_dim,))\n",
        "# Retrieve the last layer of the autoencoder model\n",
        "decoder_layer = autoencoder.layers[-1]\n",
        "# Create the decoder model\n",
        "decoder = keras.Model(encoded_input, decoder_layer(encoded_input))"
      ],
      "execution_count": null,
      "outputs": []
    },
    {
      "cell_type": "code",
      "metadata": {
        "id": "IdRcQTqgVUxW"
      },
      "source": [
        "autoencoder.compile(optimizer='adam', loss='binary_crossentropy')"
      ],
      "execution_count": null,
      "outputs": []
    },
    {
      "cell_type": "code",
      "metadata": {
        "id": "VjyVqqsPVZ32"
      },
      "source": [
        "from keras.datasets import mnist\n",
        "import numpy as np\n",
        "(x_train, _), (x_test, _) = mnist.load_data()"
      ],
      "execution_count": null,
      "outputs": []
    },
    {
      "cell_type": "code",
      "metadata": {
        "colab": {
          "base_uri": "https://localhost:8080/"
        },
        "id": "tuUv3dxfVc6m",
        "outputId": "3e73a972-d33e-48d3-a7ad-86601e8b8704"
      },
      "source": [
        "x_train = x_train.astype('float32') / 255.\n",
        "x_test = x_test.astype('float32') / 255.\n",
        "x_train = x_train.reshape((len(x_train), np.prod(x_train.shape[1:])))\n",
        "x_test = x_test.reshape((len(x_test), np.prod(x_test.shape[1:])))\n",
        "print(x_train.shape)\n",
        "print(x_test.shape)"
      ],
      "execution_count": null,
      "outputs": [
        {
          "output_type": "stream",
          "text": [
            "(60000, 784)\n",
            "(10000, 784)\n"
          ],
          "name": "stdout"
        }
      ]
    },
    {
      "cell_type": "code",
      "metadata": {
        "colab": {
          "base_uri": "https://localhost:8080/"
        },
        "id": "mMgMrXT0ViC4",
        "outputId": "4bf5cfac-85b4-4def-92ce-bb39633f2284"
      },
      "source": [
        "autoencoder_train = autoencoder.fit(x_train, x_train,\n",
        "                epochs=50,\n",
        "                batch_size=256,\n",
        "                shuffle=True,\n",
        "                validation_data=(x_test, x_test))"
      ],
      "execution_count": null,
      "outputs": [
        {
          "output_type": "stream",
          "text": [
            "Epoch 1/50\n",
            "235/235 [==============================] - 3s 10ms/step - loss: 0.3806 - val_loss: 0.1894\n",
            "Epoch 2/50\n",
            "235/235 [==============================] - 2s 10ms/step - loss: 0.1793 - val_loss: 0.1538\n",
            "Epoch 3/50\n",
            "235/235 [==============================] - 2s 9ms/step - loss: 0.1491 - val_loss: 0.1334\n",
            "Epoch 4/50\n",
            "235/235 [==============================] - 2s 9ms/step - loss: 0.1309 - val_loss: 0.1214\n",
            "Epoch 5/50\n",
            "235/235 [==============================] - 2s 9ms/step - loss: 0.1202 - val_loss: 0.1132\n",
            "Epoch 6/50\n",
            "235/235 [==============================] - 2s 9ms/step - loss: 0.1126 - val_loss: 0.1072\n",
            "Epoch 7/50\n",
            "235/235 [==============================] - 2s 10ms/step - loss: 0.1071 - val_loss: 0.1028\n",
            "Epoch 8/50\n",
            "235/235 [==============================] - 2s 10ms/step - loss: 0.1032 - val_loss: 0.0998\n",
            "Epoch 9/50\n",
            "235/235 [==============================] - 2s 9ms/step - loss: 0.1003 - val_loss: 0.0970\n",
            "Epoch 10/50\n",
            "235/235 [==============================] - 2s 9ms/step - loss: 0.0979 - val_loss: 0.0953\n",
            "Epoch 11/50\n",
            "235/235 [==============================] - 2s 10ms/step - loss: 0.0965 - val_loss: 0.0942\n",
            "Epoch 12/50\n",
            "235/235 [==============================] - 2s 10ms/step - loss: 0.0953 - val_loss: 0.0935\n",
            "Epoch 13/50\n",
            "235/235 [==============================] - 2s 10ms/step - loss: 0.0946 - val_loss: 0.0931\n",
            "Epoch 14/50\n",
            "235/235 [==============================] - 2s 10ms/step - loss: 0.0944 - val_loss: 0.0928\n",
            "Epoch 15/50\n",
            "235/235 [==============================] - 2s 10ms/step - loss: 0.0939 - val_loss: 0.0926\n",
            "Epoch 16/50\n",
            "235/235 [==============================] - 2s 10ms/step - loss: 0.0940 - val_loss: 0.0923\n",
            "Epoch 17/50\n",
            "235/235 [==============================] - 2s 10ms/step - loss: 0.0936 - val_loss: 0.0922\n",
            "Epoch 18/50\n",
            "235/235 [==============================] - 2s 10ms/step - loss: 0.0934 - val_loss: 0.0921\n",
            "Epoch 19/50\n",
            "235/235 [==============================] - 2s 10ms/step - loss: 0.0935 - val_loss: 0.0921\n",
            "Epoch 20/50\n",
            "235/235 [==============================] - 2s 10ms/step - loss: 0.0931 - val_loss: 0.0920\n",
            "Epoch 21/50\n",
            "235/235 [==============================] - 2s 10ms/step - loss: 0.0932 - val_loss: 0.0919\n",
            "Epoch 22/50\n",
            "235/235 [==============================] - 2s 10ms/step - loss: 0.0930 - val_loss: 0.0918\n",
            "Epoch 23/50\n",
            "235/235 [==============================] - 2s 10ms/step - loss: 0.0932 - val_loss: 0.0918\n",
            "Epoch 24/50\n",
            "235/235 [==============================] - 2s 10ms/step - loss: 0.0931 - val_loss: 0.0918\n",
            "Epoch 25/50\n",
            "235/235 [==============================] - 2s 10ms/step - loss: 0.0930 - val_loss: 0.0917\n",
            "Epoch 26/50\n",
            "235/235 [==============================] - 2s 10ms/step - loss: 0.0927 - val_loss: 0.0917\n",
            "Epoch 27/50\n",
            "235/235 [==============================] - 2s 10ms/step - loss: 0.0928 - val_loss: 0.0916\n",
            "Epoch 28/50\n",
            "235/235 [==============================] - 2s 10ms/step - loss: 0.0927 - val_loss: 0.0916\n",
            "Epoch 29/50\n",
            "235/235 [==============================] - 2s 10ms/step - loss: 0.0926 - val_loss: 0.0916\n",
            "Epoch 30/50\n",
            "235/235 [==============================] - 2s 10ms/step - loss: 0.0927 - val_loss: 0.0916\n",
            "Epoch 31/50\n",
            "235/235 [==============================] - 2s 10ms/step - loss: 0.0927 - val_loss: 0.0916\n",
            "Epoch 32/50\n",
            "235/235 [==============================] - 2s 10ms/step - loss: 0.0926 - val_loss: 0.0916\n",
            "Epoch 33/50\n",
            "235/235 [==============================] - 2s 10ms/step - loss: 0.0929 - val_loss: 0.0915\n",
            "Epoch 34/50\n",
            "235/235 [==============================] - 2s 10ms/step - loss: 0.0926 - val_loss: 0.0915\n",
            "Epoch 35/50\n",
            "235/235 [==============================] - 2s 10ms/step - loss: 0.0925 - val_loss: 0.0915\n",
            "Epoch 36/50\n",
            "235/235 [==============================] - 2s 10ms/step - loss: 0.0927 - val_loss: 0.0915\n",
            "Epoch 37/50\n",
            "235/235 [==============================] - 2s 10ms/step - loss: 0.0926 - val_loss: 0.0914\n",
            "Epoch 38/50\n",
            "235/235 [==============================] - 2s 10ms/step - loss: 0.0925 - val_loss: 0.0914\n",
            "Epoch 39/50\n",
            "235/235 [==============================] - 2s 10ms/step - loss: 0.0926 - val_loss: 0.0914\n",
            "Epoch 40/50\n",
            "235/235 [==============================] - 2s 10ms/step - loss: 0.0925 - val_loss: 0.0914\n",
            "Epoch 41/50\n",
            "235/235 [==============================] - 2s 10ms/step - loss: 0.0927 - val_loss: 0.0914\n",
            "Epoch 42/50\n",
            "235/235 [==============================] - 2s 10ms/step - loss: 0.0927 - val_loss: 0.0914\n",
            "Epoch 43/50\n",
            "235/235 [==============================] - 2s 10ms/step - loss: 0.0926 - val_loss: 0.0914\n",
            "Epoch 44/50\n",
            "235/235 [==============================] - 2s 10ms/step - loss: 0.0925 - val_loss: 0.0914\n",
            "Epoch 45/50\n",
            "235/235 [==============================] - 2s 10ms/step - loss: 0.0925 - val_loss: 0.0915\n",
            "Epoch 46/50\n",
            "235/235 [==============================] - 2s 10ms/step - loss: 0.0925 - val_loss: 0.0913\n",
            "Epoch 47/50\n",
            "235/235 [==============================] - 2s 10ms/step - loss: 0.0926 - val_loss: 0.0914\n",
            "Epoch 48/50\n",
            "235/235 [==============================] - 2s 10ms/step - loss: 0.0924 - val_loss: 0.0914\n",
            "Epoch 49/50\n",
            "235/235 [==============================] - 2s 10ms/step - loss: 0.0925 - val_loss: 0.0914\n",
            "Epoch 50/50\n",
            "235/235 [==============================] - 2s 10ms/step - loss: 0.0924 - val_loss: 0.0913\n"
          ],
          "name": "stdout"
        }
      ]
    },
    {
      "cell_type": "code",
      "metadata": {
        "colab": {
          "base_uri": "https://localhost:8080/",
          "height": 281
        },
        "id": "_xCpj5Fnv26K",
        "outputId": "976f7bc9-2d98-438f-e58e-cca09f0d2b24"
      },
      "source": [
        "loss = autoencoder_train.history['loss']\n",
        "val_loss = autoencoder_train.history['val_loss']\n",
        "epochs = range(50)\n",
        "plt.figure()\n",
        "plt.plot(epochs, loss, 'bo', label='Training loss')\n",
        "plt.plot(epochs, val_loss, 'b', label='Validation loss')\n",
        "plt.title('Training and validation loss')\n",
        "plt.legend()\n",
        "plt.show()"
      ],
      "execution_count": null,
      "outputs": [
        {
          "output_type": "display_data",
          "data": {
            "image/png": "[encoded data removed]",
            "text/plain": [
              "<Figure size 432x288 with 1 Axes>"
            ]
          },
          "metadata": {
            "tags": [],
            "needs_background": "light"
          }
        }
      ]
    },
    {
      "cell_type": "code",
      "metadata": {
        "id": "NSVGZrgyu--3"
      },
      "source": [
        "# Encode and decode some digits\n",
        "# Note that we take them from the *test* set\n",
        "encoded_imgs = encoder.predict(x_test)\n",
        "decoded_imgs = decoder.predict(encoded_imgs)"
      ],
      "execution_count": null,
      "outputs": []
    },
    {
      "cell_type": "markdown",
      "metadata": {
        "id": "FTuGh5yGNgBS"
      },
      "source": [
        " The top row is the original digits, and the bottom row is the reconstructed digits. "
      ]
    },
    {
      "cell_type": "code",
      "metadata": {
        "colab": {
          "base_uri": "https://localhost:8080/",
          "height": 248
        },
        "id": "o7rjqXe1u-mP",
        "outputId": "818c7eef-31d6-4a64-eb80-6a1596d4b8d6"
      },
      "source": [
        "# Use Matplotlib (don't ask)\n",
        "import matplotlib.pyplot as plt\n",
        "\n",
        "n = 10  # How many digits we will display\n",
        "plt.figure(figsize=(20, 4))\n",
        "for i in range(n):\n",
        "    #Display original\n",
        "    ax = plt.subplot(2, n, i + 1)\n",
        "    plt.imshow(x_test[i].reshape(28, 28))\n",
        "    plt.gray()\n",
        "    ax.get_xaxis().set_visible(False)\n",
        "    ax.get_yaxis().set_visible(False)\n",
        "\n",
        "    #\"Display reconstruction\"\n",
        "    ax = plt.subplot(2, n, i + 1 + n)\n",
        "    plt.imshow(decoded_imgs[i].reshape(28, 28))\n",
        "    plt.gray()\n",
        "    ax.get_xaxis().set_visible(False)\n",
        "    ax.get_yaxis().set_visible(False)\n",
        "plt.show()"
      ],
      "execution_count": null,
      "outputs": [
        {
          "output_type": "display_data",
          "data": {
            "image/png": "[encoded data removed]",
            "text/plain": [
              "<Figure size 1440x288 with 20 Axes>"
            ]
          },
          "metadata": {
            "tags": [],
            "needs_background": "light"
          }
        }
      ]
    },
    {
      "cell_type": "markdown",
      "metadata": {
        "id": "yoW82V46XItZ"
      },
      "source": [
        "***Concolutional Auto Encoder***\n",
        "\n",
        "Since our inputs are images, it makes sense to use convolutional neural networks (convnets) as encoders and decoders. In practical settings, autoencoders applied to images are always convolutional autoencoders --they simply perform much better.\n",
        "\n",
        "The encoder will consist in a stack of Conv2D and MaxPooling2D layers (max pooling being used for spatial down-sampling), while the decoder will consist in a stack of Conv2D and UpSampling2D layers."
      ]
    },
    {
      "cell_type": "code",
      "metadata": {
        "colab": {
          "base_uri": "https://localhost:8080/"
        },
        "id": "J0rpGnwOWfgV",
        "outputId": "894dc3fc-d138-4466-a6c9-82c414f7368a"
      },
      "source": [
        "import keras\n",
        "from keras import layers\n",
        "\n",
        "input_img = keras.Input(shape=(28, 28, 1))\n",
        "\n",
        "x = layers.Conv2D(16, (3, 3), activation='relu', padding='same')(input_img)\n",
        "x = layers.MaxPooling2D((2, 2), padding='same')(x)\n",
        "x = layers.Conv2D(8, (3, 3), activation='relu', padding='same')(x)\n",
        "x = layers.MaxPooling2D((2, 2), padding='same')(x)\n",
        "x = layers.Conv2D(8, (3, 3), activation='relu', padding='same')(x)\n",
        "encoded = layers.MaxPooling2D((2, 2), padding='same')(x)\n",
        "\n",
        "# at this point the representation is (4, 4, 8) i.e. 128-dimensional\n",
        "\n",
        "x = layers.Conv2D(8, (3, 3), activation='relu', padding='same')(encoded)\n",
        "x = layers.UpSampling2D((2, 2))(x)\n",
        "x = layers.Conv2D(8, (3, 3), activation='relu', padding='same')(x)\n",
        "x = layers.UpSampling2D((2, 2))(x)\n",
        "x = layers.Conv2D(16, (3, 3), activation='relu')(x)\n",
        "x = layers.UpSampling2D((2, 2))(x)\n",
        "decoded = layers.Conv2D(1, (3, 3), activation='sigmoid', padding='same')(x)\n",
        "\n",
        "autoencoder = keras.Model(input_img, decoded)\n",
        "autoencoder.compile(optimizer='adam', loss='binary_crossentropy')\n",
        "autoencoder.summary()"
      ],
      "execution_count": null,
      "outputs": [
        {
          "output_type": "stream",
          "text": [
            "Model: \"model_5\"\n",
            "_________________________________________________________________\n",
            "Layer (type)                 Output Shape              Param #   \n",
            "=================================================================\n",
            "input_5 (InputLayer)         [(None, 28, 28, 1)]       0         \n",
            "_________________________________________________________________\n",
            "conv2d_7 (Conv2D)            (None, 28, 28, 16)        160       \n",
            "_________________________________________________________________\n",
            "max_pooling2d_3 (MaxPooling2 (None, 14, 14, 16)        0         \n",
            "_________________________________________________________________\n",
            "conv2d_8 (Conv2D)            (None, 14, 14, 8)         1160      \n",
            "_________________________________________________________________\n",
            "max_pooling2d_4 (MaxPooling2 (None, 7, 7, 8)           0         \n",
            "_________________________________________________________________\n",
            "conv2d_9 (Conv2D)            (None, 7, 7, 8)           584       \n",
            "_________________________________________________________________\n",
            "max_pooling2d_5 (MaxPooling2 (None, 4, 4, 8)           0         \n",
            "_________________________________________________________________\n",
            "conv2d_10 (Conv2D)           (None, 4, 4, 8)           584       \n",
            "_________________________________________________________________\n",
            "up_sampling2d_3 (UpSampling2 (None, 8, 8, 8)           0         \n",
            "_________________________________________________________________\n",
            "conv2d_11 (Conv2D)           (None, 8, 8, 8)           584       \n",
            "_________________________________________________________________\n",
            "up_sampling2d_4 (UpSampling2 (None, 16, 16, 8)         0         \n",
            "_________________________________________________________________\n",
            "conv2d_12 (Conv2D)           (None, 14, 14, 16)        1168      \n",
            "_________________________________________________________________\n",
            "up_sampling2d_5 (UpSampling2 (None, 28, 28, 16)        0         \n",
            "_________________________________________________________________\n",
            "conv2d_13 (Conv2D)           (None, 28, 28, 1)         145       \n",
            "=================================================================\n",
            "Total params: 4,385\n",
            "Trainable params: 4,385\n",
            "Non-trainable params: 0\n",
            "_________________________________________________________________\n"
          ],
          "name": "stdout"
        }
      ]
    },
    {
      "cell_type": "markdown",
      "metadata": {
        "id": "Gb6zDr81N8IX"
      },
      "source": [
        "To train,the original MNIST digits with shape (samples, 3, 28, 28), and we will just normalize pixel values between 0 and 1."
      ]
    },
    {
      "cell_type": "code",
      "metadata": {
        "id": "fCn9ou-7XMSk"
      },
      "source": [
        "from keras.datasets import mnist\n",
        "import numpy as np\n",
        "\n",
        "(x_train, _), (x_test, _) = mnist.load_data()\n",
        "\n",
        "x_train = x_train.astype('float32') / 255.\n",
        "x_test = x_test.astype('float32') / 255.\n",
        "x_train = np.reshape(x_train, (len(x_train), 28, 28, 1))\n",
        "x_test = np.reshape(x_test, (len(x_test), 28, 28, 1))"
      ],
      "execution_count": null,
      "outputs": []
    },
    {
      "cell_type": "code",
      "metadata": {
        "colab": {
          "base_uri": "https://localhost:8080/"
        },
        "id": "lAysKrYKXTW9",
        "outputId": "a0c8c951-34f5-4c61-efac-379940241964"
      },
      "source": [
        "autoencoder.fit(x_train, x_train,\n",
        "                epochs=50,\n",
        "                batch_size=128,\n",
        "                shuffle=True,\n",
        "                verbose=1,\n",
        "                validation_data=(x_test, x_test))"
      ],
      "execution_count": null,
      "outputs": [
        {
          "output_type": "stream",
          "text": [
            "Epoch 1/50\n",
            "469/469 [==============================] - 80s 169ms/step - loss: 0.3336 - val_loss: 0.1510\n",
            "Epoch 2/50\n",
            "469/469 [==============================] - 79s 168ms/step - loss: 0.1442 - val_loss: 0.1275\n",
            "Epoch 3/50\n",
            "469/469 [==============================] - 79s 168ms/step - loss: 0.1252 - val_loss: 0.1172\n",
            "Epoch 4/50\n",
            "469/469 [==============================] - 79s 168ms/step - loss: 0.1168 - val_loss: 0.1124\n",
            "Epoch 5/50\n",
            "469/469 [==============================] - 79s 168ms/step - loss: 0.1129 - val_loss: 0.1091\n",
            "Epoch 6/50\n",
            "469/469 [==============================] - 79s 169ms/step - loss: 0.1096 - val_loss: 0.1066\n",
            "Epoch 7/50\n",
            "469/469 [==============================] - 80s 170ms/step - loss: 0.1073 - val_loss: 0.1049\n",
            "Epoch 8/50\n",
            "469/469 [==============================] - 79s 169ms/step - loss: 0.1053 - val_loss: 0.1031\n",
            "Epoch 9/50\n",
            "469/469 [==============================] - 79s 168ms/step - loss: 0.1040 - val_loss: 0.1022\n",
            "Epoch 10/50\n",
            "469/469 [==============================] - 79s 168ms/step - loss: 0.1027 - val_loss: 0.1009\n",
            "Epoch 11/50\n",
            "469/469 [==============================] - 80s 171ms/step - loss: 0.1019 - val_loss: 0.1000\n",
            "Epoch 12/50\n",
            "469/469 [==============================] - 81s 174ms/step - loss: 0.1009 - val_loss: 0.0993\n",
            "Epoch 13/50\n",
            "469/469 [==============================] - 81s 173ms/step - loss: 0.1001 - val_loss: 0.0990\n",
            "Epoch 14/50\n",
            "469/469 [==============================] - 81s 172ms/step - loss: 0.0997 - val_loss: 0.0980\n",
            "Epoch 15/50\n",
            "469/469 [==============================] - 81s 173ms/step - loss: 0.0991 - val_loss: 0.0978\n",
            "Epoch 16/50\n",
            "469/469 [==============================] - 81s 173ms/step - loss: 0.0985 - val_loss: 0.0970\n",
            "Epoch 17/50\n",
            "469/469 [==============================] - 81s 172ms/step - loss: 0.0981 - val_loss: 0.0976\n",
            "Epoch 18/50\n",
            "469/469 [==============================] - 81s 173ms/step - loss: 0.0977 - val_loss: 0.0960\n",
            "Epoch 19/50\n",
            "469/469 [==============================] - 81s 173ms/step - loss: 0.0973 - val_loss: 0.0961\n",
            "Epoch 20/50\n",
            "469/469 [==============================] - 81s 173ms/step - loss: 0.0968 - val_loss: 0.0957\n",
            "Epoch 21/50\n",
            "469/469 [==============================] - 81s 173ms/step - loss: 0.0968 - val_loss: 0.0959\n",
            "Epoch 22/50\n",
            "469/469 [==============================] - 81s 174ms/step - loss: 0.0962 - val_loss: 0.0948\n",
            "Epoch 23/50\n",
            "469/469 [==============================] - 80s 171ms/step - loss: 0.0960 - val_loss: 0.0946\n",
            "Epoch 24/50\n",
            "469/469 [==============================] - 80s 171ms/step - loss: 0.0956 - val_loss: 0.0945\n",
            "Epoch 25/50\n",
            "469/469 [==============================] - 80s 172ms/step - loss: 0.0955 - val_loss: 0.0942\n",
            "Epoch 26/50\n",
            "469/469 [==============================] - 81s 172ms/step - loss: 0.0950 - val_loss: 0.0939\n",
            "Epoch 27/50\n",
            "469/469 [==============================] - 80s 171ms/step - loss: 0.0948 - val_loss: 0.0937\n",
            "Epoch 28/50\n",
            "469/469 [==============================] - 80s 170ms/step - loss: 0.0946 - val_loss: 0.0935\n",
            "Epoch 29/50\n",
            "469/469 [==============================] - 81s 172ms/step - loss: 0.0943 - val_loss: 0.0931\n",
            "Epoch 30/50\n",
            "469/469 [==============================] - 80s 171ms/step - loss: 0.0940 - val_loss: 0.0929\n",
            "Epoch 31/50\n",
            "469/469 [==============================] - 80s 170ms/step - loss: 0.0939 - val_loss: 0.0927\n",
            "Epoch 32/50\n",
            "469/469 [==============================] - 80s 170ms/step - loss: 0.0939 - val_loss: 0.0925\n",
            "Epoch 33/50\n",
            "469/469 [==============================] - 80s 171ms/step - loss: 0.0936 - val_loss: 0.0924\n",
            "Epoch 34/50\n",
            "469/469 [==============================] - 80s 171ms/step - loss: 0.0936 - val_loss: 0.0936\n",
            "Epoch 35/50\n",
            "469/469 [==============================] - 81s 173ms/step - loss: 0.0935 - val_loss: 0.0919\n",
            "Epoch 36/50\n",
            "469/469 [==============================] - 80s 171ms/step - loss: 0.0932 - val_loss: 0.0926\n",
            "Epoch 37/50\n",
            "469/469 [==============================] - 80s 171ms/step - loss: 0.0928 - val_loss: 0.0916\n",
            "Epoch 38/50\n",
            "469/469 [==============================] - 81s 174ms/step - loss: 0.0928 - val_loss: 0.0921\n",
            "Epoch 39/50\n",
            "469/469 [==============================] - 82s 175ms/step - loss: 0.0927 - val_loss: 0.0915\n",
            "Epoch 40/50\n",
            "469/469 [==============================] - 81s 172ms/step - loss: 0.0927 - val_loss: 0.0912\n",
            "Epoch 41/50\n",
            "469/469 [==============================] - 80s 171ms/step - loss: 0.0923 - val_loss: 0.0915\n",
            "Epoch 42/50\n",
            "469/469 [==============================] - 80s 171ms/step - loss: 0.0923 - val_loss: 0.0909\n",
            "Epoch 43/50\n",
            "469/469 [==============================] - 80s 172ms/step - loss: 0.0920 - val_loss: 0.0910\n",
            "Epoch 44/50\n",
            "469/469 [==============================] - 80s 170ms/step - loss: 0.0919 - val_loss: 0.0906\n",
            "Epoch 45/50\n",
            "469/469 [==============================] - 80s 171ms/step - loss: 0.0918 - val_loss: 0.0907\n",
            "Epoch 46/50\n",
            "469/469 [==============================] - 80s 171ms/step - loss: 0.0916 - val_loss: 0.0908\n",
            "Epoch 47/50\n",
            "469/469 [==============================] - 81s 173ms/step - loss: 0.0916 - val_loss: 0.0904\n",
            "Epoch 48/50\n",
            "469/469 [==============================] - 81s 173ms/step - loss: 0.0915 - val_loss: 0.0903\n",
            "Epoch 49/50\n",
            "469/469 [==============================] - 80s 171ms/step - loss: 0.0915 - val_loss: 0.0901\n",
            "Epoch 50/50\n",
            "469/469 [==============================] - 80s 171ms/step - loss: 0.0912 - val_loss: 0.0909\n"
          ],
          "name": "stdout"
        },
        {
          "output_type": "execute_result",
          "data": {
            "text/plain": [
              "<tensorflow.python.keras.callbacks.History at 0x7fed24f15550>"
            ]
          },
          "metadata": {
            "tags": []
          },
          "execution_count": 19
        }
      ]
    },
    {
      "cell_type": "markdown",
      "metadata": {
        "id": "Bo74-k-BOJ83"
      },
      "source": [
        "Reconstructed Images"
      ]
    },
    {
      "cell_type": "code",
      "metadata": {
        "colab": {
          "base_uri": "https://localhost:8080/",
          "height": 248
        },
        "id": "BJgsinfYrs-p",
        "outputId": "934a547b-c5d3-43e8-d649-113c54cd4607"
      },
      "source": [
        "decoded_imgs = autoencoder.predict(x_test)\n",
        "\n",
        "n = 10\n",
        "plt.figure(figsize=(20, 4))\n",
        "for i in range(1, n + 1):\n",
        "    # Display original\n",
        "    ax = plt.subplot(2, n, i)\n",
        "    plt.imshow(x_test[i].reshape(28, 28))\n",
        "    plt.gray()\n",
        "    ax.get_xaxis().set_visible(False)\n",
        "    ax.get_yaxis().set_visible(False)\n",
        "\n",
        "    # Display reconstruction\n",
        "    ax = plt.subplot(2, n, i + n)\n",
        "    plt.imshow(decoded_imgs[i].reshape(28, 28))\n",
        "    plt.gray()\n",
        "    ax.get_xaxis().set_visible(False)\n",
        "    ax.get_yaxis().set_visible(False)\n",
        "plt.show()"
      ],
      "execution_count": null,
      "outputs": [
        {
          "output_type": "display_data",
          "data": {
            "image/png": "[encoded data removed]",
            "text/plain": [
              "<Figure size 1440x288 with 20 Axes>"
            ]
          },
          "metadata": {
            "tags": [],
            "needs_background": "light"
          }
        }
      ]
    },
    {
      "cell_type": "markdown",
      "metadata": {
        "id": "6z2h4AAYORYW"
      },
      "source": [
        "These representations are 8x4x4, so we reshape them to 4x32 in order to be able to display them as grayscale images."
      ]
    },
    {
      "cell_type": "code",
      "metadata": {
        "colab": {
          "base_uri": "https://localhost:8080/",
          "height": 469
        },
        "id": "qFVvkmxEsoYL",
        "outputId": "8d8392ab-c130-4b5e-deae-137801c07a2a"
      },
      "source": [
        "encoder = keras.Model(input_img, encoded)\n",
        "encoded_imgs = encoder.predict(x_test)\n",
        "\n",
        "n = 10\n",
        "plt.figure(figsize=(20, 8))\n",
        "for i in range(1, n + 1):\n",
        "    ax = plt.subplot(1, n, i)\n",
        "    plt.imshow(encoded_imgs[i].reshape((4, 4 * 8)).T)\n",
        "    plt.gray()\n",
        "    ax.get_xaxis().set_visible(False)\n",
        "    ax.get_yaxis().set_visible(False)\n",
        "plt.show()"
      ],
      "execution_count": null,
      "outputs": [
        {
          "output_type": "display_data",
          "data": {
            "image/png": "[encoded data removed]",
            "text/plain": [
              "<Figure size 1440x576 with 10 Axes>"
            ]
          },
          "metadata": {
            "tags": [],
            "needs_background": "light"
          }
        }
      ]
    }
  ]
}