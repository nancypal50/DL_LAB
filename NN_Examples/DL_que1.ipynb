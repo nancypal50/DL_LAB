{
  "nbformat": 4,
  "nbformat_minor": 0,
  "metadata": {
    "colab": {
      "name": "DL_que1.ipynb",
      "provenance": [],
      "authorship_tag": "ABX9TyNPNdK5IcHjOfmZXx/jvnYI",
      "include_colab_link": true
    },
    "kernelspec": {
      "name": "python3",
      "display_name": "Python 3"
    }
  },
  "cells": [
    {
      "cell_type": "markdown",
      "metadata": {
        "id": "view-in-github",
        "colab_type": "text"
      },
      "source": [
        "<a href=\"https://colab.research.google.com/github/nancypal50/DL_LAB/blob/main/DL_que1.ipynb\" target=\"_parent\"><img src=\"https://colab.research.google.com/assets/colab-badge.svg\" alt=\"Open In Colab\"/></a>"
      ]
    },
    {
      "cell_type": "code",
      "metadata": {
        "id": "J4myyZ3ZmSnV"
      },
      "source": [
        "https://github.com/nancypal50/DL_LAB"
      ],
      "execution_count": null,
      "outputs": []
    },
    {
      "cell_type": "code",
      "metadata": {
        "id": "hv7nU_QOmWN_"
      },
      "source": [
        "# importing the library\r\n",
        "import numpy as np"
      ],
      "execution_count": 2,
      "outputs": []
    },
    {
      "cell_type": "code",
      "metadata": {
        "colab": {
          "base_uri": "https://localhost:8080/"
        },
        "id": "-viGXw9zmXJT",
        "outputId": "1e25236f-9cfc-46cf-eb75-6ac115806d30"
      },
      "source": [
        "# creating the input array\r\n",
        "X=np.array([[1,0,1,0],[1,0,1,1],[0,1,0,1],[1,0,0,1],[0,0,1,0],[0,0,1,1],[1,1,0,0],[0,1,0,0],[1,0,0,0],[0,1,1,0]])\r\n",
        "print ('\\n Input:')\r\n",
        "print(X)"
      ],
      "execution_count": 10,
      "outputs": [
        {
          "output_type": "stream",
          "text": [
            "\n",
            " Input:\n",
            "[[1 0 1 0]\n",
            " [1 0 1 1]\n",
            " [0 1 0 1]\n",
            " [1 0 0 1]\n",
            " [0 0 1 0]\n",
            " [0 0 1 1]\n",
            " [1 1 0 0]\n",
            " [0 1 0 0]\n",
            " [1 0 0 0]\n",
            " [0 1 1 0]]\n"
          ],
          "name": "stdout"
        }
      ]
    },
    {
      "cell_type": "code",
      "metadata": {
        "colab": {
          "base_uri": "https://localhost:8080/"
        },
        "id": "XmPRflgzmkY5",
        "outputId": "6ad39466-67a2-4d9f-8835-a88fcf3ee615"
      },
      "source": [
        "# creating the output array\r\n",
        "y=np.array([[1],[1],[0],[0],[1],[0],[1],[1],[1],[0]])\r\n",
        "print ('\\n Actual Output:')\r\n",
        "print(y)"
      ],
      "execution_count": 4,
      "outputs": [
        {
          "output_type": "stream",
          "text": [
            "\n",
            " Actual Output:\n",
            "[[1]\n",
            " [1]\n",
            " [0]\n",
            " [0]\n",
            " [1]]\n"
          ],
          "name": "stdout"
        }
      ]
    },
    {
      "cell_type": "code",
      "metadata": {
        "id": "3hFIlw4BmsF8"
      },
      "source": [
        "# defining the Sigmoid Function\r\n",
        "def sigmoid (x):\r\n",
        "    return 1/(1 + np.exp(-x))"
      ],
      "execution_count": 5,
      "outputs": []
    },
    {
      "cell_type": "code",
      "metadata": {
        "id": "NDx9r0YFmwND"
      },
      "source": [
        "# derivative of Sigmoid Function\r\n",
        "def derivatives_sigmoid(x):\r\n",
        "    return x * (1 - x)"
      ],
      "execution_count": 6,
      "outputs": []
    },
    {
      "cell_type": "code",
      "metadata": {
        "id": "4JKcP4Ymm0ZU"
      },
      "source": [
        "# initializing the variables\r\n",
        "epoch=50 # number of training iterations\r\n",
        "lr=0.1 # learning rate\r\n",
        "inputlayer_neurons = X.shape[1] # number of features in data set\r\n",
        "hiddenlayer_neurons = 3 # number of hidden layers neurons\r\n",
        "output_neurons = 1 # number of neurons at output layer"
      ],
      "execution_count": 7,
      "outputs": []
    },
    {
      "cell_type": "code",
      "metadata": {
        "id": "ETE-1eh7m6Bs"
      },
      "source": [
        "# initializing weight and bias\r\n",
        "wh=np.random.uniform(size=(inputlayer_neurons,hiddenlayer_neurons))\r\n",
        "bh=np.random.uniform(size=(1,hiddenlayer_neurons))\r\n",
        "wout=np.random.uniform(size=(hiddenlayer_neurons,output_neurons))\r\n",
        "bout=np.random.uniform(size=(1,output_neurons))"
      ],
      "execution_count": 8,
      "outputs": []
    },
    {
      "cell_type": "code",
      "metadata": {
        "colab": {
          "base_uri": "https://localhost:8080/"
        },
        "id": "B_Slcswrm9LH",
        "outputId": "cbf03a27-4ff7-4049-824f-99d4701a83b7"
      },
      "source": [
        "# training the model\r\n",
        "for i in range(epoch):\r\n",
        "\r\n",
        "    #Forward Propogation\r\n",
        "    hidden_layer_input1=np.dot(X,wh)\r\n",
        "    hidden_layer_input=hidden_layer_input1 + bh\r\n",
        "    hiddenlayer_activations = sigmoid(hidden_layer_input)\r\n",
        "    output_layer_input1=np.dot(hiddenlayer_activations,wout)\r\n",
        "    output_layer_input= output_layer_input1+ bout\r\n",
        "    output = sigmoid(output_layer_input)\r\n",
        "\r\n",
        "     #Backpropagation\r\n",
        "    E = y-output\r\n",
        "    slope_output_layer = derivatives_sigmoid(output)\r\n",
        "    slope_hidden_layer = derivatives_sigmoid(hiddenlayer_activations)\r\n",
        "    d_output = E * slope_output_layer\r\n",
        "    Error_at_hidden_layer = d_output.dot(wout.T)\r\n",
        "    d_hiddenlayer = Error_at_hidden_layer * slope_hidden_layer\r\n",
        "    wout += hiddenlayer_activations.T.dot(d_output) *lr\r\n",
        "    bout += np.sum(d_output, axis=0,keepdims=True) *lr\r\n",
        "    wh += X.T.dot(d_hiddenlayer) *lr\r\n",
        "    bh += np.sum(d_hiddenlayer, axis=0,keepdims=True) *lr\r\n",
        "\r\n",
        "print ('\\n Output from the model:')\r\n",
        "print (output)"
      ],
      "execution_count": 9,
      "outputs": [
        {
          "output_type": "stream",
          "text": [
            "\n",
            " Output from the model:\n",
            "[[0.60001829]\n",
            " [0.60111151]\n",
            " [0.59535566]\n",
            " [0.58720685]\n",
            " [0.59734059]]\n"
          ],
          "name": "stdout"
        }
      ]
    },
    {
      "cell_type": "code",
      "metadata": {
        "id": "java9zJInNaW"
      },
      "source": [
        ""
      ],
      "execution_count": null,
      "outputs": []
    }
  ]
}